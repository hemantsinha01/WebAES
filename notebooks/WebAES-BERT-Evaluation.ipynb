{
 "cells": [
  {
   "cell_type": "markdown",
   "id": "245adf4f",
   "metadata": {},
   "source": [
    "<center>\n",
    "<h1><b>Word Embedding Based Answer Evaluation System for Online Assessments (WebAES)</b></h1>\n",
    "<h3>A smart system to automate the process of answer evaluation in online assessments.</h3>\n",
    "<h5> BERT Model for WebAES</h5>"
   ]
  },
  {
   "cell_type": "code",
   "execution_count": 1,
   "id": "02ac167e",
   "metadata": {},
   "outputs": [],
   "source": [
    "# To perform sentence encoding using BERT model\n",
    "from sentence_transformers import SentenceTransformer\n",
    "\n",
    "# To determine similarity between 2 vectors\n",
    "from sklearn.metrics.pairwise import cosine_similarity"
   ]
  },
  {
   "cell_type": "code",
   "execution_count": 2,
   "id": "f26432b6",
   "metadata": {},
   "outputs": [],
   "source": [
    "# Answer expected by the faculty\n",
    "exp_ans = '''The performance measure for medical diagnosis system may include the number of patients healed by \n",
    "correctly and accurately diagnosing diseases. For example, the performance measure may be the percentage of cases diagnosed \n",
    "correctly by the system. The environment for a medical diagnosis system includes patients and their vital signs. This \n",
    "environment is fully observable, dynamic and complete. The actuators include display screens and alert systems that send \n",
    "feedback to doctors. Sensors include equipment including medical sensors as well as medical images.'''\n",
    "\n",
    "# Answer submitted by the student\n",
    "stu_ans = '''The percentage of cases correctly identified by the medical diagnosis system is the performance measure \n",
    "for a medical diagnosis system. The performance measure can be described as the number of cases out of every one hundred \n",
    "cases that were diagnosed correctly by the system. In this case, the environment is complete, observable and static. The \n",
    "feedback system which gives the result of diagnosis to a doctor is the actuator. Sensors include medical sensors such as \n",
    "ECG equipment as well as cameras to monitor images of X Rays.'''\n",
    "\n",
    "# List of documents\n",
    "docs = [exp_ans, stu_ans]"
   ]
  },
  {
   "cell_type": "code",
   "execution_count": 3,
   "id": "9afe42ff",
   "metadata": {},
   "outputs": [
    {
     "data": {
      "text/plain": [
       "(2, 768)"
      ]
     },
     "execution_count": 3,
     "metadata": {},
     "output_type": "execute_result"
    }
   ],
   "source": [
    "# Load pre-trained BERT model\n",
    "model = SentenceTransformer('bert-base-nli-mean-tokens')\n",
    "\n",
    "# Encode documents using BERT model and display shape\n",
    "doc_embeddings = model.encode(docs)\n",
    "doc_embeddings.shape"
   ]
  },
  {
   "cell_type": "code",
   "execution_count": 4,
   "id": "4179041a",
   "metadata": {},
   "outputs": [
    {
     "name": "stdout",
     "output_type": "stream",
     "text": [
      "Similarity score: 0.8852013349533081\n",
      "Marks (out of 10): 8.85\n"
     ]
    }
   ],
   "source": [
    "# Calculate similarity using cosine similarity measure\n",
    "sim_score = cosine_similarity([doc_embeddings[0]], doc_embeddings[1:])[0][0]\n",
    "\n",
    "# Calculate marks based on similarity score and display marks scored\n",
    "marks = round(sim_score*10, 2)\n",
    "print('Similarity score: {}\\nMarks (out of 10): {}'.format(sim_score, marks))"
   ]
  }
 ],
 "metadata": {
  "kernelspec": {
   "display_name": "Python 3",
   "language": "python",
   "name": "python3"
  },
  "language_info": {
   "codemirror_mode": {
    "name": "ipython",
    "version": 3
   },
   "file_extension": ".py",
   "mimetype": "text/x-python",
   "name": "python",
   "nbconvert_exporter": "python",
   "pygments_lexer": "ipython3",
   "version": "3.9.0"
  }
 },
 "nbformat": 4,
 "nbformat_minor": 5
}
