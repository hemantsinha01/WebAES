{
 "cells": [
  {
   "cell_type": "markdown",
   "metadata": {
    "id": "ZJyuupADh08a"
   },
   "source": [
    "<center>\n",
    "<h1><b>Word Embedding Based Answer Evaluation System for Online Assessments (WebAES)</b></h1>\n",
    "<h3>A smart system to automate the process of answer evaluation in online assessments.</h3>\n",
    "<h5>Doc2Vec Model training</h5>"
   ]
  },
  {
   "cell_type": "markdown",
   "metadata": {
    "id": "k3xdW1D8kQEP"
   },
   "source": [
    "# Environment setup"
   ]
  },
  {
   "cell_type": "markdown",
   "metadata": {},
   "source": [
    "For this project the following packages and libraries are required:\n",
    "\n",
    "1. **string:** To perform string manipulation required for basic text pre-processing.\n",
    "2. **gensim:** Contains the Doc2Vec model and other founctions for building, training and saving a Doc2Vec model.\n",
    "3. **scipy:** Contains implmentations of mathematical functions such as cosine of angle between 2 vectors.\n",
    "4. **time:** To measure the time elapsed for model training.\n",
    "\n",
    "These packages and libraries are installed and imported in the following code cell."
   ]
  },
  {
   "cell_type": "code",
   "execution_count": 1,
   "metadata": {
    "id": "_drleEfzhyh7"
   },
   "outputs": [],
   "source": [
    "# Install and import all required packages\n",
    "\n",
    "# For string manipulation\n",
    "import string\n",
    "\n",
    "# To build, train and save a Doc2Vec model\n",
    "from gensim.models.doc2vec import Doc2Vec, TaggedDocument\n",
    "import gensim.downloader as api\n",
    "from gensim.test.utils import get_tmpfile\n",
    "\n",
    "# To determine similarity\n",
    "import scipy\n",
    "\n",
    "# To measure time elapsed\n",
    "import time\n",
    "\n",
    "# Supress warnings\n",
    "import warnings\n",
    "warnings.filterwarnings('ignore')"
   ]
  },
  {
   "cell_type": "markdown",
   "metadata": {
    "id": "Ql2CzQwplBDs"
   },
   "source": [
    "# Doc2Vec Model"
   ]
  },
  {
   "cell_type": "markdown",
   "metadata": {
    "id": "n7p_8Y3_lDq-"
   },
   "source": [
    "## 1. Training corpus"
   ]
  },
  {
   "cell_type": "markdown",
   "metadata": {},
   "source": [
    "To build and train a word/document embedding model using Doc2Vec, a training corpus of text documents is required. One such corpus is the **text8 corpus**, which contains the first **10^8 bytes (100MB)** of data from the **English Wikipedia** dump. Therefore, it contains a large number of English documents sourced from Wikipedia, that talk about a number of varied topics. Such a text corpus is suitable to build a Doc2Vec model that can form vector representations of documents and words."
   ]
  },
  {
   "cell_type": "markdown",
   "metadata": {},
   "source": [
    "In the following code cell, the text8 corpus, already available in the gensim library, is loaded and a sample document is displayed."
   ]
  },
  {
   "cell_type": "code",
   "execution_count": 2,
   "metadata": {
    "id": "xKyM6p4gk5xM"
   },
   "outputs": [
    {
     "name": "stdout",
     "output_type": "stream",
     "text": [
      "['reciprocity', 'qualitative', 'impairments', 'in', 'communication', 'as', 'manifested', 'by', 'at', 'least', 'one', 'of', 'the', 'following', 'delay', 'in', 'or', 'total', 'lack', 'of', 'the', 'development', 'of', 'spoken', 'language']\n"
     ]
    }
   ],
   "source": [
    "# Load text8 corpus\n",
    "text8_corpus = api.load('text8')\n",
    "text8_data = [doc for doc in text8_corpus]\n",
    "\n",
    "# Display a sample document\n",
    "print(text8_data[1][0:25])"
   ]
  },
  {
   "cell_type": "markdown",
   "metadata": {},
   "source": [
    "In order to train a Doc2Vec model, a list of Tagged Documents is required. The Doc2Vec model takes this list of Tagged Documents as input and generates vector representations of texts (words and documents) by learning how different words are used along with other words. This makes it possible to capture semantic relationships between words and thereby, capture the meaning of a document (set of words)."
   ]
  },
  {
   "cell_type": "markdown",
   "metadata": {},
   "source": [
    "In the following code cell, a function is defined to generate Tagged Documents using the *TaggedDocument()* function available in the gensim library. Each document in the text corpus is plit into its individual words (tokens) and tagged with a unique ID. A sample Tagged Document is shown."
   ]
  },
  {
   "cell_type": "code",
   "execution_count": 3,
   "metadata": {
    "id": "PSQk-WScmMyW"
   },
   "outputs": [],
   "source": [
    "# Function to generate tagged documents from text corpus\n",
    "def tagged_document(corpus_documents):\n",
    "    # For each document in corpus, yield a TaggedDocument object\n",
    "    for i, list_of_words in enumerate(corpus_documents):\n",
    "        yield TaggedDocument(list_of_words, [i])"
   ]
  },
  {
   "cell_type": "code",
   "execution_count": 4,
   "metadata": {
    "id": "9PHwk_-5mRDR",
    "scrolled": true
   },
   "outputs": [
    {
     "name": "stdout",
     "output_type": "stream",
     "text": [
      "TaggedDocument(['reciprocity', 'qualitative', 'impairments', 'in', 'communication', 'as', 'manifested', 'by', 'at', 'least', 'one', 'of', 'the', 'following', 'delay', 'in', 'or', 'total', 'lack', 'of', 'the', 'development', 'of', 'spoken', 'language', 'not', 'accompanied', 'by', 'an', 'attempt', 'to', 'compensate', 'through', 'alternative', 'modes', 'of', 'communication', 'such', 'as', 'gesture', 'or', 'mime', 'in', 'individuals', 'with', 'adequate', 'speech', 'marked', 'impairment', 'in', 'the', 'ability', 'to', 'initiate', 'or', 'sustain', 'a', 'conversation', 'with', 'others', 'stereotyped', 'and', 'repetitive', 'use', 'of', 'language', 'or', 'idiosyncratic', 'language', 'lack', 'of', 'varied', 'spontaneous', 'make', 'believe', 'play', 'or', 'social', 'imitative', 'play', 'appropriate', 'to', 'developmental', 'level', 'restricted', 'repetitive', 'and', 'stereotyped', 'patterns', 'of', 'behavior', 'interests', 'and', 'activities', 'as', 'manifested', 'by', 'at', 'least', 'one', 'of', 'the', 'following', 'encompassing', 'preoccupation', 'with', 'one', 'or', 'more', 'stereotyped', 'and', 'restricted', 'patterns', 'of', 'interest', 'that', 'is', 'abnormal', 'either', 'in', 'intensity', 'or', 'focus', 'apparently', 'inflexible', 'adherence', 'to', 'specific', 'nonfunctional', 'routines', 'or', 'rituals', 'stereotyped', 'and', 'repetitive', 'motor', 'mannerisms', 'e', 'g', 'hand', 'or', 'finger', 'flapping', 'or', 'twisting', 'or', 'complex', 'whole', 'body', 'movements', 'persistent', 'preoccupation', 'with', 'parts', 'of', 'objects', 'delays', 'or', 'abnormal', 'functioning', 'in', 'at', 'least', 'one', 'of', 'the', 'following', 'areas', 'with', 'onset', 'prior', 'to', 'age', 'three', 'years', 'one', 'social', 'interaction', 'two', 'language', 'as', 'used', 'in', 'social', 'communication', 'or', 'three', 'symbolic', 'or', 'imaginative', 'play', 'the', 'disturbance', 'is', 'not', 'better', 'accounted', 'for', 'by', 'rett', 's', 'disorder', 'or', 'childhood', 'disintegrative', 'disorder', 'the', 'diagnostic', 'and', 'statistical', 'manual', 's', 'diagnostic', 'criteria', 'in', 'general', 'is', 'controversial', 'for', 'being', 'vague', 'and', 'subjective', 'see', 'the', 'dsm', 'cautionary', 'statement', 'the', 'criteria', 'for', 'autism', 'is', 'much', 'more', 'controversial', 'and', 'some', 'clinicians', 'today', 'may', 'ignore', 'it', 'completely', 'instead', 'solely', 'relying', 'on', 'other', 'methods', 'for', 'determining', 'the', 'diagnosis', 'types', 'of', 'autism', 'autism', 'presents', 'in', 'a', 'wide', 'degree', 'from', 'those', 'who', 'are', 'nearly', 'dysfunctional', 'and', 'apparently', 'mentally', 'handicapped', 'to', 'those', 'whose', 'symptoms', 'are', 'mild', 'or', 'remedied', 'enough', 'to', 'appear', 'unexceptional', 'normal', 'to', 'the', 'general', 'public', 'in', 'terms', 'of', 'both', 'classification', 'and', 'therapy', 'autistic', 'individuals', 'are', 'often', 'divided', 'into', 'those', 'with', 'an', 'iq', 'eight', 'zero', 'are', 'referred', 'to', 'as', 'having', 'high', 'functioning', 'autism', 'hfa', 'low', 'and', 'high', 'functioning', 'are', 'more', 'generally', 'applied', 'to', 'how', 'well', 'an', 'individual', 'can', 'accomplish', 'activities', 'of', 'daily', 'living', 'rather', 'than', 'to', 'iq', 'the', 'terms', 'low', 'and', 'high', 'functioning', 'are', 'controversial', 'and', 'not', 'all', 'autistics', 'accept', 'these', 'labels', 'further', 'these', 'two', 'labels', 'are', 'not', 'currently', 'used', 'or', 'accepted', 'in', 'autism', 'literature', 'this', 'discrepancy', 'can', 'lead', 'to', 'confusion', 'among', 'service', 'providers', 'who', 'equate', 'iq', 'with', 'functioning', 'and', 'may', 'refuse', 'to', 'serve', 'high', 'iq', 'autistic', 'people', 'who', 'are', 'severely', 'compromised', 'in', 'their', 'ability', 'to', 'perform', 'daily', 'living', 'tasks', 'or', 'may', 'fail', 'to', 'recognize', 'the', 'intellectual', 'potential', 'of', 'many', 'autistic', 'people', 'who', 'are', 'considered', 'lfa', 'for', 'example', 'some', 'professionals', 'refuse', 'to', 'recognize', 'autistics', 'who', 'can', 'speak', 'or', 'write', 'as', 'being', 'autistic', 'at', 'all', 'because', 'they', 'still', 'think', 'of', 'autism', 'as', 'a', 'communication', 'disorder', 'so', 'severe', 'that', 'no', 'speech', 'or', 'writing', 'is', 'possible', 'as', 'a', 'consequence', 'many', 'high', 'functioning', 'autistic', 'persons', 'and', 'autistic', 'people', 'with', 'a', 'relatively', 'high', 'iq', 'are', 'underdiagnosed', 'thus', 'making', 'the', 'claim', 'that', 'autism', 'implies', 'retardation', 'self', 'fulfilling', 'the', 'number', 'of', 'people', 'diagnosed', 'with', 'lfa', 'is', 'not', 'rising', 'quite', 'as', 'sharply', 'as', 'hfa', 'indicating', 'that', 'at', 'least', 'part', 'of', 'the', 'explanation', 'for', 'the', 'apparent', 'rise', 'is', 'probably', 'better', 'diagnostics', 'asperger', 's', 'and', 'kanner', 's', 'syndrome', 'asperger', 'described', 'his', 'patients', 'as', 'little', 'professors', 'in', 'the', 'current', 'diagnostic', 'and', 'statistical', 'manual', 'of', 'mental', 'disorders', 'dsm', 'iv', 'tr', 'the', 'most', 'significant', 'difference', 'between', 'autistic', 'disorder', 'kanner', 's', 'and', 'asperger', 's', 'syndrome', 'is', 'that', 'a', 'diagnosis', 'of', 'the', 'former', 'includes', 'the', 'observation', 'of', 'delays', 'or', 'abnormal', 'functioning', 'in', 'at', 'least', 'one', 'of', 'the', 'following', 'areas', 'with', 'onset', 'prior', 'to', 'age', 'three', 'years', 'one', 'social', 'interaction', 'two', 'language', 'as', 'used', 'in', 'social', 'communication', 'or', 'three', 'symbolic', 'or', 'imaginative', 'play', 'while', 'a', 'diagnosis', 'of', 'asperger', 's', 'syndrome', 'observes', 'no', 'clinically', 'significant', 'delay', 'in', 'these', 'areas', 'the', 'dsm', 'makes', 'no', 'mention', 'of', 'level', 'of', 'intellectual', 'functioning', 'but', 'the', 'fact', 'that', 'asperger', 's', 'autistics', 'as', 'a', 'group', 'tend', 'to', 'perform', 'better', 'than', 'those', 'with', 'kanner', 's', 'autism', 'has', 'produced', 'a', 'popular', 'conception', 'that', 'asperger', 's', 'syndrome', 'is', 'synonymous', 'with', 'higher', 'functioning', 'autism', 'or', 'that', 'it', 'is', 'a', 'lesser', 'disorder', 'than', 'autism', 'there', 'is', 'also', 'a', 'popular', 'but', 'not', 'necessarily', 'true', 'conception', 'that', 'all', 'autistic', 'individuals', 'with', 'a', 'high', 'level', 'of', 'intellectual', 'functioning', 'have', 'asperger', 's', 'autism', 'or', 'that', 'both', 'types', 'are', 'merely', 'geeks', 'with', 'a', 'medical', 'label', 'attached', 'also', 'autism', 'has', 'evolved', 'in', 'the', 'public', 'understanding', 'but', 'the', 'popular', 'identification', 'of', 'autism', 'with', 'relatively', 'severe', 'cases', 'as', 'accurately', 'depicted', 'in', 'rain', 'man', 'has', 'encouraged', 'relatives', 'of', 'family', 'members', 'diagnosed', 'in', 'the', 'autistic', 'spectrum', 'to', 'speak', 'of', 'their', 'loved', 'ones', 'as', 'having', 'asperger', 's', 'syndrome', 'rather', 'than', 'autism', 'autism', 'as', 'a', 'spectrum', 'disorder', 'another', 'view', 'of', 'these', 'disorders', 'is', 'that', 'they', 'are', 'on', 'a', 'continuum', 'known', 'as', 'autistic', 'spectrum', 'disorders', 'a', 'related', 'continuum', 'is', 'sensory', 'integration', 'dysfunction', 'which', 'is', 'about', 'how', 'well', 'we', 'integrate', 'the', 'information', 'we', 'receive', 'from', 'our', 'senses', 'autism', 'asperger', 's', 'syndrome', 'and', 'sensory', 'integration', 'dysfunction', 'are', 'all', 'closely', 'related', 'and', 'overlap', 'there', 'are', 'two', 'main', 'manifestations', 'of', 'classical', 'autism', 'regressive', 'autism', 'and', 'early', 'infantile', 'autism', 'early', 'infantile', 'autism', 'is', 'present', 'at', 'birth', 'while', 'regressive', 'autism', 'begins', 'before', 'the', 'age', 'of', 'three', 'and', 'often', 'around', 'one', 'eight', 'months', 'although', 'this', 'causes', 'some', 'controversy', 'over', 'when', 'the', 'neurological', 'differences', 'involved', 'in', 'autism', 'truly', 'begin', 'some', 'believe', 'that', 'it', 'is', 'only', 'a', 'matter', 'of', 'when', 'an', 'environmental', 'toxin', 'triggers', 'the', 'disorder', 'this', 'triggering', 'could', 'occur', 'during', 'gestation', 'due', 'to', 'a', 'toxin', 'that', 'enters', 'the', 'mother', 's', 'body', 'and', 'is', 'transfered', 'to', 'the', 'fetus', 'the', 'triggering', 'could', 'also', 'occur', 'after', 'birth', 'during', 'the', 'crucial', 'early', 'nervous', 'system', 'development', 'of', 'the', 'child', 'due', 'to', 'a', 'toxin', 'directly', 'entering', 'the', 'child', 's', 'body', 'increase', 'in', 'diagnoses', 'of', 'autism', 'the', 'number', 'of', 'reported', 'cases', 'of', 'autism', 'has', 'increased', 'dramatically', 'over', 'the', 'past', 'decade', 'statistics', 'in', 'graph', 'from', 'the', 'national', 'center', 'for', 'health', 'statistics', 'there', 'has', 'been', 'an', 'explosion', 'worldwide', 'in', 'reported', 'cases', 'of', 'autism', 'over', 'the', 'last', 'ten', 'years', 'which', 'is', 'largely', 'reminiscent', 'of', 'increases', 'in', 'the', 'diagnosis', 'of', 'schizophrenia', 'and', 'multiple', 'personality', 'disorder', 'in', 'the', 'twentieth', 'century', 'this', 'has', 'brought', 'rise', 'to', 'a', 'number', 'of', 'different', 'theories', 'as', 'to', 'the', 'nature', 'of', 'the', 'sudden', 'increase', 'epidemiologists', 'argue', 'that', 'the', 'rise', 'in', 'diagnoses', 'in', 'the', 'united', 'states', 'is', 'partly', 'or', 'entirely', 'attributable', 'to', 'changes', 'in', 'diagnostic', 'criteria', 'reclassifications', 'public', 'awareness', 'and', 'the', 'incentive', 'to', 'receive', 'federally', 'mandated', 'services', 'a', 'widely', 'cited', 'study', 'from', 'the', 'm', 'i', 'n', 'd', 'institute', 'in', 'california', 'one', 'seven', 'october', 'two', 'zero', 'zero', 'two', 'claimed', 'that', 'the', 'increase', 'in', 'autism', 'is', 'real', 'even', 'after', 'those', 'complicating', 'factors', 'are', 'accounted', 'for', 'see', 'reference', 'in', 'this', 'section', 'below', 'other', 'researchers', 'remain', 'unconvinced', 'see', 'references', 'below', 'including', 'dr', 'chris', 'johnson', 'a', 'professor', 'of', 'pediatrics', 'at', 'the', 'university', 'of', 'texas', 'health', 'sciences', 'center', 'at', 'san', 'antonio', 'and', 'cochair', 'of', 'the', 'american', 'academy', 'of', 'pediatrics', 'autism', 'expert', 'panel', 'who', 'says', 'there', 'is', 'a', 'chance', 'we', 're', 'seeing', 'a', 'true', 'rise', 'but', 'right', 'now', 'i', 'don', 't', 'think', 'anybody', 'can', 'answer', 'that', 'question', 'for', 'sure', 'newsweek', 'reference', 'below', 'the', 'answer', 'to', 'this', 'question', 'has', 'significant', 'ramifications', 'on', 'the', 'direction', 'of', 'research', 'since', 'a', 'real', 'increase', 'would', 'focus', 'more', 'attention', 'and', 'research', 'funding', 'on', 'the', 'search', 'for', 'environmental', 'factors', 'while', 'little', 'or', 'no', 'real', 'increase', 'would', 'focus', 'more', 'attention', 'to', 'genetics', 'on', 'the', 'other', 'hand', 'it', 'is', 'conceivable', 'that', 'certain', 'environmental', 'factors', 'vaccination', 'diet', 'societal', 'changes', 'may', 'have', 'a', 'particular', 'impact', 'on', 'people', 'with', 'a', 'specific', 'genetic', 'constitution', 'there', 'is', 'little', 'public', 'research', 'on', 'the', 'effects', 'of', 'in', 'vitro', 'fertilization', 'on', 'the', 'number', 'of', 'incidences', 'of', 'autism', 'one', 'of', 'the', 'more', 'popular', 'theories', 'is', 'that', 'there', 'is', 'a', 'connection', 'between', 'geekdom', 'and', 'autism', 'this', 'is', 'hinted', 'for', 'instance', 'by', 'a', 'wired', 'magazine', 'article', 'in', 'two', 'zero', 'zero', 'one', 'entitled', 'the', 'geek', 'syndrome', 'which', 'is', 'a', 'point', 'argued', 'by', 'many', 'in', 'the', 'autism', 'rights', 'movement', 'this', 'article', 'many', 'professionals', 'assert', 'is', 'just', 'one', 'example', 'of', 'the', 'media', 's', 'application', 'of', 'mental', 'disease', 'labels', 'to', 'what', 'is', 'actually', 'variant', 'normal', 'behavior', 'they', 'argue', 'that', 'shyness', 'lack', 'of', 'athletic', 'ability', 'or', 'social', 'skills', 'and', 'intellectual', 'interests', 'even', 'when', 'they', 'seem', 'unusual', 'to', 'others', 'are', 'not', 'in', 'themselves', 'signs', 'of', 'autism', 'or', 'asperger', 's', 'syndrome', 'others', 'assert', 'that', 'it', 'is', 'actually', 'the', 'medical', 'profession', 'which', 'is', 'applying', 'mental', 'disease', 'labels', 'to', 'children', 'who', 'in', 'the', 'past', 'would', 'have', 'simply', 'been', 'accepted', 'as', 'a', 'little', 'different', 'or', 'even', 'labeled', 'gifted', 'see', 'clinomorphism', 'for', 'further', 'discussion', 'of', 'this', 'issue', 'due', 'to', 'the', 'recent', 'publicity', 'surrounding', 'autism', 'and', 'autistic', 'spectrum', 'disorders', 'an', 'increasing', 'number', 'of', 'adults', 'are', 'choosing', 'to', 'seek', 'diagnoses', 'of', 'high', 'functioning', 'autism', 'or', 'asperger', 's', 'syndrome', 'in', 'light', 'of', 'symptoms', 'they', 'currently', 'experience', 'or', 'experienced', 'during', 'childhood', 'since', 'the', 'cause', 'of', 'autism', 'is', 'thought', 'to', 'be', 'at', 'least', 'partly', 'genetic', 'a', 'proportion', 'of', 'these', 'adults', 'seek', 'their', 'own', 'diagnosis', 'specifically', 'as', 'follow', 'up', 'to', 'their', 'children', 's', 'diagnoses', 'because', 'autism', 'falls', 'into', 'the', 'pervasive', 'developmental', 'disorder', 'category', 'strictly', 'speaking', 'symptoms', 'must', 'have', 'been', 'present', 'in', 'a', 'given', 'patient', 'before', 'age', 'seven', 'in', 'order', 'to', 'make', 'a', 'differential', 'diagnosis', 'therapies', 'sociology', 'due', 'to', 'the', 'complexity', 'of', 'autism', 'there', 'are', 'many', 'facets', 'of', 'sociology', 'that', 'need', 'to', 'be', 'considered', 'when', 'discussing', 'it', 'such', 'as', 'the', 'culture', 'which', 'has', 'evolved', 'from', 'autistic', 'persons', 'connecting', 'and', 'communicating', 'with', 'one', 'another', 'in', 'addition', 'there', 'are', 'several', 'subgroups', 'forming', 'within', 'the', 'autistic', 'community', 'sometimes', 'in', 'strong', 'opposition', 'to', 'one', 'another', 'community', 'and', 'politics', 'much', 'like', 'many', 'other', 'controversies', 'in', 'the', 'world', 'the', 'autistic', 'community', 'itself', 'has', 'splintered', 'off', 'into', 'several', 'groups', 'essentially', 'these', 'groups', 'are', 'those', 'who', 'seek', 'a', 'cure', 'for', 'autism', 'dubbed', 'pro', 'cure', 'those', 'who', 'do', 'not', 'desire', 'a', 'cure', 'for', 'autism', 'and', 'as', 'such', 'resist', 'it', 'dubbed', 'anti', 'cure', 'and', 'the', 'many', 'people', 'caught', 'in', 'the', 'middle', 'of', 'the', 'two', 'in', 'recent', 'history', 'with', 'scientists', 'learning', 'more', 'about', 'autism', 'and', 'possibly', 'coming', 'closer', 'to', 'a', 'cure', 'some', 'members', 'of', 'the', 'anti', 'cure', 'movement', 'sent', 'a', 'letter', 'to', 'the', 'united', 'nations', 'demanding', 'to', 'be', 'treated', 'as', 'a', 'minority', 'group', 'rather', 'than', 'a', 'group', 'with', 'a', 'mental', 'disability', 'or', 'disease', 'websites', 'such', 'as', 'autistics', 'org', 'present', 'the', 'view', 'of', 'the', 'anti', 'cure', 'group', 'there', 'are', 'numerous', 'resources', 'available', 'for', 'autistics', 'from', 'many', 'groups', 'due', 'to', 'the', 'fact', 'that', 'many', 'autistics', 'find', 'it', 'easier', 'to', 'communicate', 'online', 'than', 'in', 'person', 'many', 'of', 'these', 'resources', 'are', 'available', 'online', 'in', 'addition', 'sometimes', 'successful', 'autistic', 'adults', 'in', 'a', 'local', 'community', 'will', 'help', 'out', 'children', 'with', 'autism', 'much', 'in', 'the', 'way', 'a', 'master', 'would', 'help', 'out', 'an', 'apprentice', 'for', 'example', 'two', 'zero', 'zero', 'two', 'was', 'declared', 'autism', 'awareness', 'year', 'in', 'the', 'united', 'kingdom', 'this', 'idea', 'was', 'initiated', 'by', 'ivan', 'and', 'charika', 'corea', 'parents', 'of', 'an', 'autistic', 'child', 'charin', 'autism', 'awareness', 'year', 'was', 'led', 'by', 'the', 'british', 'institute', 'of', 'brain', 'injured', 'children', 'disabilities', 'trust', 'national', 'autistic', 'society', 'autism', 'london', 'and', 'eight', 'zero', 'zero', 'organizations', 'in', 'the', 'united', 'kingdom', 'it', 'had', 'the', 'personal', 'backing', 'of', 'british', 'prime', 'minister', 'tony', 'blair', 'and', 'parliamentarians', 'of', 'all', 'parties', 'in', 'the', 'palace', 'of', 'westminster', 'culture', 'with', 'the', 'recent', 'increases', 'in', 'autism', 'recognition', 'and', 'new', 'approaches', 'to', 'educating', 'and', 'socializing', 'autistics', 'an', 'autistic', 'culture', 'has', 'begun', 'to', 'develop', 'similar', 'to', 'deaf', 'culture', 'autistic', 'culture', 'is', 'based', 'in', 'a', 'belief', 'that', 'autism', 'is', 'a', 'unique', 'way', 'of', 'being', 'and', 'not', 'a', 'disorder', 'to', 'be', 'cured', 'there', 'are', 'some', 'commonalities', 'which', 'are', 'specific', 'to', 'autism', 'in', 'general', 'as', 'a', 'culture', 'not', 'just', 'autistic', 'culture', 'it', 'is', 'a', 'common', 'misperception', 'that', 'people', 'with', 'autism', 'do', 'not', 'marry', 'many', 'do', 'get', 'married', 'often', 'they', 'marry', 'another', 'person', 'with', 'autism', 'although', 'this', 'is', 'not', 'always', 'the', 'case', 'many', 'times', 'autistics', 'are', 'attracted', 'to', 'other', 'autistics', 'due', 'to', 'shared', 'interests', 'or', 'obsessions', 'but', 'more', 'often', 'than', 'not', 'the', 'attraction', 'is', 'due', 'to', 'simple', 'compatibility', 'with', 'personality', 'types', 'the', 'same', 'as', 'is', 'true', 'for', 'non', 'autistics', 'autistics', 'who', 'communicate', 'have', 'explained', 'that', 'companionship', 'is', 'as', 'important', 'to', 'autistics', 'as', 'it', 'is', 'to', 'anyone', 'else', 'multigenerational', 'autistic', 'families', 'have', 'also', 'recently', 'become', 'a', 'bit', 'more', 'common', 'the', 'interests', 'of', 'autistic', 'people', 'and', 'so', 'called', 'geeks', 'or', 'nerds', 'can', 'often', 'overlap', 'as', 'autistic', 'people', 'can', 'sometimes', 'become', 'preoccupied', 'with', 'certain', 'subjects', 'much', 'like', 'the', 'variant', 'normal', 'behavior', 'geeks', 'experience', 'however', 'in', 'practice', 'many', 'autistic', 'people', 'have', 'difficulty', 'with', 'working', 'in', 'groups', 'which', 'impairs', 'them', 'even', 'in', 'the', 'most', 'technical', 'of', 'situations', 'autistic', 'adults', 'temple', 'grandin', 'one', 'of', 'the', 'more', 'successful', 'adults', 'with', 'autism', 'photograph', 'courtesy', 'joshua', 'nathaniel', 'pritikin', 'and', 'william', 'lawrence', 'jarrold', 'some', 'autistic', 'adults', 'are', 'able', 'to', 'work', 'successfully', 'in', 'mainstream', 'jobs', 'usually', 'those', 'with', 'high', 'functioning', 'autism', 'or', 'asperger', 's', 'syndrome', 'nevertheless', 'communication', 'and', 'social', 'problems', 'often', 'cause', 'difficulties', 'in', 'many', 'areas', 'of', 'the', 'autistic', 's', 'life', 'other', 'autistics', 'are', 'capable', 'of', 'employment', 'in', 'sheltered', 'workshops', 'under', 'the', 'supervision', 'of', 'managers', 'trained', 'in', 'working', 'with', 'persons', 'with', 'disabilities', 'a', 'nurturing', 'environment', 'at', 'home', 'at', 'school', 'and', 'later', 'in', 'job', 'training', 'and', 'at', 'work', 'helps', 'autistic', 'people', 'continue', 'to', 'learn', 'and', 'to', 'develop', 'throughout', 'their', 'lives', 'some', 'argue', 'that', 'the', 'internet', 'allows', 'autistic', 'individuals', 'to', 'communicate', 'and', 'form', 'online', 'communities', 'in', 'addition', 'to', 'being', 'able', 'to', 'find', 'occupations', 'such', 'as', 'independent', 'consulting', 'which', 'does', 'generally', 'not', 'require', 'much', 'human', 'interaction', 'offline', 'in', 'the', 'united', 'states', 'the', 'public', 'schools', 'responsibility', 'for', 'providing', 'services', 'ends', 'when', 'the', 'autistic', 'person', 'is', 'in', 'their', 'two', 'zero', 's', 'depending', 'on', 'each', 'state', 'the', 'family', 'is', 'then', 'faced', 'with', 'the', 'challenge', 'of', 'finding', 'living', 'arrangements', 'and', 'employment', 'to', 'match', 'the', 'particular', 'needs', 'of', 'their', 'adult', 'child', 'as', 'well', 'as', 'the', 'programs', 'and', 'facilities', 'that', 'can', 'provide', 'support', 'services', 'to', 'achieve', 'these', 'goals', 'autistic', 'savants', 'the', 'autistic', 'savant', 'phenomenon', 'is', 'sometimes', 'seen', 'in', 'autistic', 'people', 'the', 'term', 'is', 'used', 'to', 'describe', 'a', 'person', 'who', 'is', 'autistic', 'and', 'has', 'extreme', 'talent', 'in', 'a', 'certain', 'area', 'of', 'study', 'although', 'there', 'is', 'a', 'common', 'association', 'between', 'savants', 'and', 'autism', 'an', 'association', 'created', 'by', 'the', 'one', 'nine', 'eight', 'eight', 'film', 'rain', 'man', 'most', 'autistic', 'people', 'are', 'not', 'savants', 'mental', 'calculators', 'and', 'fast', 'programming', 'skills', 'are', 'the', 'most', 'common', 'form', 'the', 'famous', 'example', 'is', 'daniel', 'tammet', 'the', 'subject', 'of', 'the', 'documentary', 'film', 'the', 'brain', 'man', 'kim', 'peek', 'one', 'of', 'the', 'inspirations', 'for', 'dustin', 'hoffman', 's', 'character', 'in', 'the', 'film', 'rain', 'man', 'is', 'not', 'autistic', 'bright', 'splinters', 'of', 'the', 'mind', 'is', 'a', 'book', 'that', 'explores', 'this', 'issue', 'further', 'other', 'pervasive', 'developmental', 'disorders', 'autism', 'and', 'asperger', 's', 'syndrome', 'are', 'just', 'two', 'of', 'the', 'five', 'pervasive', 'developmental', 'disorders', 'pdds', 'the', 'three', 'other', 'pervasive', 'developmental', 'disorders', 'are', 'rett', 'syndrome', 'childhood', 'disintegrative', 'disorder', 'and', 'pervasive', 'developmental', 'disorder', 'not', 'otherwise', 'specified', 'some', 'of', 'these', 'are', 'related', 'to', 'autism', 'while', 'some', 'of', 'them', 'are', 'entirely', 'separate', 'conditions', 'rett', 'syndrome', 'rett', 'syndrome', 'is', 'relatively', 'rare', 'affecting', 'almost', 'exclusively', 'females', 'one', 'out', 'of', 'one', 'zero', 'zero', 'zero', 'zero', 'to', 'one', 'five', 'zero', 'zero', 'zero', 'after', 'a', 'period', 'of', 'normal', 'development', 'sometime', 'between', 'six', 'and', 'one', 'eight', 'months', 'autism', 'like', 'symptoms', 'begin', 'to', 'appear', 'the', 'little', 'girl', 's', 'mental', 'and', 'social', 'development', 'regresses', 'she', 'no', 'longer', 'responds', 'to', 'her', 'parents', 'and', 'pulls', 'away', 'from', 'any', 'social', 'contact', 'if', 'she', 'has', 'been', 'talking', 'she', 'stops', 'she', 'cannot', 'control', 'her', 'feet', 'she', 'wrings', 'her', 'hands', 'some', 'of', 'these', 'early', 'symptoms', 'may', 'be', 'confused', 'for', 'autism', 'some', 'of', 'the', 'problems', 'associated', 'with', 'rett', 'syndrome', 'can', 'be', 'treated', 'physical', 'occupational', 'and', 'speech', 'therapy', 'can', 'help', 'with', 'problems', 'of', 'coordination', 'movement', 'and', 'speech', 'scientists', 'sponsored', 'by', 'the', 'national', 'institute', 'of', 'child', 'health', 'and', 'human', 'development', 'have', 'discovered', 'that', 'a', 'mutation', 'in', 'the', 'sequence', 'of', 'a', 'single', 'gene', 'causes', 'rett', 'syndrome', 'and', 'can', 'physically', 'test', 'for', 'it', 'with', 'a', 'eight', 'zero', 'accuracy', 'rate', 'rett', 'syndrome', 'in', 'the', 'past', 'was', 'sometimes', 'classified', 'as', 'an', 'autistic', 'spectrum', 'disorder', 'however', 'most', 'scientists', 'agree', 'that', 'rett', 'syndrome', 'is', 'a', 'separate', 'developmental', 'disorder', 'and', 'not', 'part', 'of', 'the', 'autistic', 'spectrum', 'childhood', 'disintegrative', 'disorder', 'childhood', 'disintegrative', 'disorder', 'cdd', 'and', 'sometimes', 'abbreviated', 'as', 'chdd', 'also', 'is', 'a', 'condition', 'appearing', 'in', 'three', 'or', 'four', 'year', 'old', 'children', 'who', 'have', 'developed', 'normally', 'until', 'age', 'two', 'over', 'several', 'months', 'the', 'child', 'will', 'deteriorate', 'in', 'intellectual', 'social', 'and', 'language', 'functioning', 'from', 'previously', 'normal', 'behaviour', 'this', 'long', 'period', 'of', 'normal', 'development', 'before', 'regression', 'helps', 'differentiate', 'cdd', 'from', 'rett', 'syndrome', 'and', 'in', 'fact', 'it', 'must', 'be', 'differentiated', 'from', 'autism', 'in', 'testing', 'the', 'cause', 'for', 'cdd', 'is', 'unknown', 'thus', 'it', 'may', 'be', 'a', 'spectrum', 'disorder', 'but', 'current', 'evidence', 'suggests', 'it', 'has', 'something', 'to', 'do', 'with', 'the', 'central', 'nervous', 'system', 'pervasive', 'developmental', 'disorder', 'not', 'otherwise', 'specified', 'pervasive', 'developmental', 'disorder', 'not', 'otherwise', 'specified', 'or', 'pdd', 'nos', 'is', 'referred', 'to', 'as', 'a', 'subthreshold', 'condition', 'because', 'it', 'is', 'a', 'classification', 'which', 'is', 'given', 'to', 'someone', 'who', 'suffers', 'from', 'impairments', 'in', 'social', 'interaction', 'communication', 'and', 'or', 'stereotyped', 'behaviour', 'but', 'does', 'not', 'meet', 'the', 'criteria', 'for', 'one', 'of', 'the', 'other', 'four', 'pervasive', 'developmental', 'disorders', 'unlike', 'the', 'other', 'four', 'pervasive', 'developmental', 'disorders', 'pdd', 'nos', 'has', 'no', 'specific', 'guidelines', 'for', 'diagnosis', 'so', 'the', 'person', 'may', 'have', 'a', 'lot', 'of', 'characteristics', 'of', 'an', 'autistic', 'person', 'or', 'few', 'to', 'none', 'at', 'all', 'note', 'that', 'pervasive', 'developmental', 'disorder', 'is', 'not', 'a', 'diagnosis', 'just', 'a', 'term', 'to', 'refer', 'to', 'the', 'five', 'mentioned', 'conditions', 'while', 'pdd', 'nos', 'is', 'an', 'official', 'diagnosis', 'see', 'also', 'general', 'autism', 'therapies', 'causes', 'of', 'autism', 'conditions', 'comorbid', 'to', 'autism', 'spectrum', 'disorders', 'early', 'childhood', 'autism', 'heritability', 'of', 'autism', 'groups', 'aspies', 'for', 'freedom', 'national', 'alliance', 'for', 'autism', 'research', 'controversy', 'controversies', 'about', 'functioning', 'labels', 'in', 'the', 'autism', 'spectrum', 'controversies', 'in', 'autism', 'ethical', 'challenges', 'to', 'autism', 'treatment', 'lists', 'list', 'of', 'autism', 'related', 'topics', 'list', 'of', 'fictional', 'characters', 'on', 'the', 'autistic', 'spectrum', 'list', 'of', 'autistic', 'people', 'references', 'abstract', 'abstract', 'manev', 'r', 'manev', 'h', 'aminoglycoside', 'antibiotics', 'and', 'autism', 'a', 'speculative', 'hypothesis', 'bmc', 'psychiatry', 'two', 'zero', 'zero', 'one', 'one', 'five', 'epub', 'two', 'zero', 'zero', 'one', 'one', 'zero', 'october', 'strock', 'margaret', 'two', 'zero', 'zero', 'four', 'autism', 'spectrum', 'disorders', 'pervasive', 'developmental', 'disorders', 'nih', 'publication', 'no', 'nih', 'zero', 'four', 'five', 'five', 'one', 'one', 'national', 'institute', 'of', 'mental', 'health', 'national', 'institutes', 'of', 'health', 'u', 's', 'department', 'of', 'health', 'and', 'human', 'services', 'bethesda', 'md', 'four', 'zero', 'pp', 'http', 'www', 'nimh', 'nih', 'gov', 'publicat', 'autism', 'cfm', 'footnotes', 'external', 'links', 'general', 'wrongplanet', 'net', 'the', 'community', 'and', 'resource', 'for', 'autism', 'autism', 'spectrum', 'disorder', 'com', 'autism', 'spectrum', 'disorder', 'colour', 'se', 'seven', 'en', 'a', 'website', 'created', 'to', 'bring', 'awareness', 'of', 'spectrum', 'related', 'disorders', 'and', 'forums', 'for', 'nt', 'and', 'asd', 'interaction', 'ericdigests', 'org', 'teaching', 'students', 'with', 'autism', 'glen', 'dunlap', 'lise', 'fox', 'eric', 'digest', 'october', 'one', 'nine', 'nine', 'nine', 'autistic', 'and', 'proud', 'describes', 'new', 'discoveries', 'about', 'autism', 'autistics', 'speaking', 'for', 'themselves', 'weird', 'not', 'stupid', 'a', 'website', 'created', 'from', 'the', 'perspective', 'of', 'a', 'person', 'who', 'has', 'two', 'siblings', 'who', 'are', 'on', 'the', 'autism', 'spectrum', 'with', 'the', 'goal', 'of', 'giving', 'information', 'to', 'anybody', 'who', 'is', 'seeking', 'it', 'blogs', 'autism', 'pervasive', 'developmental', 'disorders', 'by', 'adelle', 'jameson', 'tilton', 'about', 'com', 'autism', 'news', 'and', 'more', 'adventures', 'in', 'autism', 'by', 'a', 'health', 'professional', 'who', 'is', 'the', 'mother', 'of', 'an', 'autistic', 'boy', 'autism', 'symptoms', 'getting', 'the', 'truth', 'out', 'by', 'argues', 'that', 'there', 'are', 'common', 'misconceptions', 'about', 'autism', 'reality', 'aba', 'an', 'autism', 'diary', 'by', 'katherine', 'lee', 'mother', 'of', 'an', 'autistic', 'son', 'organizations', 'on', 'the', 'spectrum', 'a', 'web', 'community', 'for', 'those', 'on', 'the', 'autism', 'spectrum', 'with', 'an', 'emphasis', 'on', 'support', 'and', 'advocacy', 'autismwebsite', 'com', 'autism', 'research', 'institute', 'clearinghouse', 'for', 'information', 'relating', 'to', 'autism', 'particularly', 'the', 'biomedical', 'treatment', 'approach', 'autism', 'society', 'org', 'autism', 'society', 'of', 'america', 'autistics', 'org', 'clearinghouse', 'for', 'information', 'related', 'to', 'autism', 'from', 'a', 'non', 'cure', 'standpoint', 'many', 'articles', 'by', 'autistics', 'center', 'for', 'the', 'study', 'of', 'autism', 'autism', 'research', 'institute', 'founded', 'by', 'bernard', 'rimland', 'resources', 'a', 'way', 'of', 'life', 'resources', 'and', 'information', 'for', 'parents', 'autism', 'treatment', 'info', 'treatment', 'tips', 'for', 'children', 'with', 'autism', 'pdd', 'asperger', 's', 'syndrome', 'aba', 'resources', 'for', 'recovery', 'from', 'autism', 'information', 'about', 'and', 'resource', 'guide', 'for', 'behavioral', 'intervention', 'for', 'autism', 'autism', 'resources', 'com', 'offering', 'information', 'and', 'links', 'regarding', 'the', 'developmental', 'disabilities', 'autism', 'and', 'asperger', 's', 'syndrome', 'autism', 'talk', 'parents', 'educators', 'discuss', 'all', 'views', 'autismtoday', 'com', 'everything', 'you', 'need', 'to', 'know', 'about', 'autism', 'autism', 'today', 'focus', 'on', 'autism', 'selection', 'of', 'documentaries', 'interviews', 'etc', 'autism', 'org', 'uk', 'paris', 'public', 'autism', 'resource', 'information', 'service', 'directory', 'of', 'uk', 'autism', 'services', 'autism', 'spectrum', 'quotient', 'measure', 'your', 'autism', 'spectrum', 'quotient', 'aspie', 'quiz', 'quiz', 'that', 'measures', 'autistic', 'traits', 'autism', 'childhood', 'psychiatric', 'disorders', 'disability', 'communication', 'disorders', 'mental', 'illness', 'diagnosis', 'by', 'dsm', 'and', 'iscdrhp', 'neurological', 'disorders', 'albedo', 'is', 'the', 'measure', 'of', 'reflectivity', 'of', 'a', 'surface', 'or', 'body', 'it', 'is', 'the', 'ratio', 'of', 'electromagnetic', 'radiation', 'em', 'radiation', 'reflected', 'to', 'the', 'amount', 'incident', 'upon', 'it', 'the', 'fraction', 'usually', 'expressed', 'as', 'a', 'percentage', 'from', 'zero', 'to', 'one', 'zero', 'zero', 'is', 'an', 'important', 'concept', 'in', 'climatology', 'and', 'astronomy', 'this', 'ratio', 'depends', 'on', 'the', 'frequency', 'of', 'the', 'radiation', 'considered', 'unqualified', 'it', 'refers', 'to', 'an', 'average', 'across', 'the', 'spectrum', 'of', 'visible', 'light', 'it', 'also', 'depends', 'on', 'the', 'angle', 'of', 'incidence', 'of', 'the', 'radiation', 'unqualified', 'normal', 'incidence', 'fresh', 'snow', 'albedos', 'are', 'high', 'up', 'to', 'nine', 'zero', 'the', 'ocean', 'surface', 'has', 'a', 'low', 'albedo', 'the', 'average', 'albedo', 'of', 'earth', 'is', 'about', 'three', 'zero', 'whereas', 'the', 'albedo', 'of', 'the', 'moon', 'is', 'about', 'seven', 'in', 'astronomy', 'the', 'albedo', 'of', 'satellites', 'and', 'asteroids', 'can', 'be', 'used', 'to', 'infer', 'surface', 'composition', 'most', 'notably', 'ice', 'content', 'enceladus', 'a', 'moon', 'of', 'saturn', 'has', 'the', 'highest', 'known', 'albedo', 'of', 'any', 'body', 'in', 'the', 'solar', 'system', 'with', 'nine', 'nine', 'of', 'em', 'radiation', 'reflected', 'human', 'activities', 'have', 'changed', 'the', 'albedo', 'via', 'forest', 'clearance', 'and', 'farming', 'for', 'example', 'of', 'various', 'areas', 'around', 'the', 'globe', 'however', 'quantification', 'of', 'this', 'effect', 'is', 'difficult', 'on', 'the', 'global', 'scale', 'it', 'is', 'not', 'clear', 'whether', 'the', 'changes', 'have', 'tended', 'to', 'increase', 'or', 'decrease', 'global', 'warming', 'the', 'classical', 'example', 'of', 'albedo', 'effect', 'is', 'the', 'snow', 'temperature', 'feedback', 'if', 'a', 'snow', 'covered', 'area', 'warms', 'and', 'the', 'snow', 'melts', 'the', 'albedo', 'decreases', 'more', 'sunlight', 'is', 'absorbed', 'and', 'the', 'temperature', 'tends', 'to', 'increase', 'the', 'converse', 'is', 'true', 'if', 'snow', 'forms', 'a', 'cooling', 'cycle', 'happens', 'the', 'intensity', 'of', 'the', 'albedo', 'effect', 'depends', 'on', 'the', 'size', 'of', 'the', 'change', 'in', 'albedo', 'and', 'the', 'amount', 'of', 'insolation', 'for', 'this', 'reason', 'it', 'can', 'be', 'potentially', 'very', 'large', 'in', 'the', 'tropics', 'some', 'examples', 'of', 'albedo', 'effects', 'fairbanks', 'alaska', 'according', 'to', 'the', 'national', 'climatic', 'data', 'center', 's', 'ghcn', 'two', 'data', 'which', 'is', 'composed', 'of', 'three', 'zero', 'year', 'smoothed', 'climatic', 'means', 'for', 'thousands', 'of', 'weather', 'stations', 'across', 'the', 'world', 'the', 'college', 'weather', 'station', 'at', 'fairbanks', 'alaska', 'is', 'about', 'three', 'c', 'five', 'f', 'warmer', 'than', 'the', 'airport', 'at', 'fairbanks', 'partly', 'because', 'of', 'drainage', 'patterns', 'but', 'also', 'largely', 'because', 'of', 'the', 'lower', 'albedo', 'at', 'the', 'college', 'resulting', 'from', 'a', 'higher', 'concentration', 'of', 'pine', 'trees', 'and', 'therefore', 'less', 'open', 'snowy', 'ground', 'to', 'reflect', 'the', 'heat', 'back', 'into', 'space', 'neunke', 'and', 'kukla', 'have', 'shown', 'that', 'this', 'difference', 'is', 'especially', 'marked', 'during', 'the', 'late', 'winter', 'months', 'when', 'solar', 'radiation', 'is', 'greater', 'the', 'tropics', 'although', 'the', 'albedo', 'temperature', 'effect', 'is', 'most', 'famous', 'in', 'colder', 'regions', 'of', 'earth', 'because', 'more', 'snow', 'falls', 'there', 'it', 'is', 'actually', 'much', 'stronger', 'in', 'tropical', 'regions', 'because', 'in', 'the', 'tropics', 'there', 'is', 'consistently', 'more', 'sunlight', 'when', 'brazilian', 'ranchers', 'cut', 'down', 'dark', 'tropical', 'rainforest', 'trees', 'to', 'replace', 'them', 'with', 'even', 'darker', 'soil', 'in', 'order', 'to', 'grow', 'crops', 'the', 'average', 'temperature', 'of', 'the', 'area', 'appears', 'to', 'increase', 'by', 'an', 'average', 'of', 'about', 'three', 'c', 'five', 'f', 'year', 'round', 'which', 'is', 'a', 'significant', 'amount', 'small', 'scale', 'effects', 'albedo', 'works', 'on', 'a', 'smaller', 'scale', 'too', 'people', 'who', 'wear', 'dark', 'clothes', 'in', 'the', 'summertime', 'put', 'themselves', 'at', 'a', 'greater', 'risk', 'of', 'heatstroke', 'than', 'those', 'who', 'wear', 'white', 'clothes', 'pine', 'forests', 'the', 'albedo', 'of', 'a', 'pine', 'forest', 'at', 'four', 'five', 'n', 'in', 'the', 'winter', 'in', 'which', 'the', 'trees', 'cover', 'the', 'land', 'surface', 'completely', 'is', 'only', 'about', 'nine', 'among', 'the', 'lowest', 'of', 'any', 'naturally', 'occurring', 'land', 'environment', 'this', 'is', 'partly', 'due', 'to', 'the', 'color', 'of', 'the', 'pines', 'and', 'partly', 'due', 'to', 'multiple', 'scattering', 'of', 'sunlight', 'within', 'the', 'trees', 'which', 'lowers', 'the', 'overall', 'reflected', 'light', 'level', 'due', 'to', 'light', 'penetration', 'the', 'ocean', 's', 'albedo', 'is', 'even', 'lower', 'at', 'about', 'three', 'five', 'though', 'this', 'depends', 'strongly', 'on', 'the', 'angle', 'of', 'the', 'incident', 'radiation', 'dense', 'swampland', 'averages', 'between', 'nine', 'and', 'one', 'four', 'deciduous', 'trees', 'average', 'about', 'one', 'three', 'a', 'grassy', 'field', 'usually', 'comes', 'in', 'at', 'about', 'two', 'zero', 'a', 'barren', 'field', 'will', 'depend', 'on', 'the', 'color', 'of', 'the', 'soil', 'and', 'can', 'be', 'as', 'low', 'as', 'five', 'or', 'as', 'high', 'as', 'four', 'zero', 'with', 'one', 'five', 'being', 'about', 'the', 'average', 'for', 'farmland', 'a', 'desert', 'or', 'large', 'beach', 'usually', 'averages', 'around', 'two', 'five', 'but', 'varies', 'depending', 'on', 'the', 'color', 'of', 'the', 'sand', 'reference', 'edward', 'walker', 's', 'study', 'in', 'the', 'great', 'plains', 'in', 'the', 'winter', 'around', 'four', 'five', 'n', 'urban', 'areas', 'urban', 'areas', 'in', 'particular', 'have', 'very', 'unnatural', 'values', 'for', 'albedo', 'because', 'of', 'the', 'many', 'human', 'built', 'structures', 'which', 'absorb', 'light', 'before', 'the', 'light', 'can', 'reach', 'the', 'surface', 'in', 'the', 'northern', 'part', 'of', 'the', 'world', 'cities', 'are', 'relatively', 'dark', 'and', 'walker', 'has', 'shown', 'that', 'their', 'average', 'albedo', 'is', 'about', 'seven', 'with', 'only', 'a', 'slight', 'increase', 'during', 'the', 'summer', 'in', 'most', 'tropical', 'countries', 'cities', 'average', 'around', 'one', 'two', 'this', 'is', 'similar', 'to', 'the', 'values', 'found', 'in', 'northern', 'suburban', 'transitional', 'zones', 'part', 'of', 'the', 'reason', 'for', 'this', 'is', 'the', 'different', 'natural', 'environment', 'of', 'cities', 'in', 'tropical', 'regions', 'e', 'g', 'there', 'are', 'more', 'very', 'dark', 'trees', 'around', 'another', 'reason', 'is', 'that', 'portions', 'of', 'the', 'tropics', 'are', 'very', 'poor', 'and', 'city', 'buildings', 'must', 'be', 'built', 'with', 'different', 'materials', 'warmer', 'regions', 'may', 'also', 'choose', 'lighter', 'colored', 'building', 'materials', 'so', 'the', 'structures', 'will', 'remain', 'cooler', 'trees', 'because', 'trees', 'tend', 'to', 'have', 'a', 'low', 'albedo', 'removing', 'forests', 'would', 'tend', 'to', 'increase', 'albedo', 'and', 'thereby', 'cool', 'the', 'planet', 'cloud', 'feedbacks', 'further', 'complicate', 'the', 'issue', 'in', 'seasonally', 'snow', 'covered', 'zones', 'winter', 'albedos', 'of', 'treeless', 'areas', 'are', 'one', 'zero', 'to', 'five', 'zero', 'higher', 'than', 'nearby', 'forested', 'areas', 'because', 'snow', 'does', 'not', 'cover', 'the', 'trees', 'as', 'readily', 'studies', 'by', 'the', 'hadley', 'centre', 'have', 'investigated', 'the', 'relative', 'generally', 'warming', 'effect', 'of', 'albedo', 'change', 'and', 'cooling', 'effect', 'of', 'carbon', 'sequestration', 'on', 'planting', 'forests', 'they', 'found', 'that', 'new', 'forests', 'in', 'tropical', 'and', 'midlatitude', 'areas', 'tended', 'to', 'cool', 'new', 'forests', 'in', 'high', 'latitudes', 'e', 'g', 'siberia', 'were', 'neutral', 'or', 'perhaps', 'warming', 'snow', 'snow', 'albedos', 'can', 'be', 'as', 'high', 'as', 'nine', 'zero', 'this', 'is', 'for', 'the', 'ideal', 'example', 'however', 'fresh', 'deep', 'snow', 'over', 'a', 'featureless', 'landscape', 'over', 'antarctica', 'they', 'average', 'a', 'little', 'more', 'than', 'eight', 'zero', 'if', 'a', 'marginally', 'snow', 'covered', 'area', 'warms', 'snow', 'tends', 'to', 'melt', 'lowering', 'the', 'albedo', 'and', 'hence', 'leading', 'to', 'more', 'snowmelt', 'the', 'ice', 'albedo', 'feedback', 'this', 'is', 'the', 'basis', 'for', 'predictions', 'of', 'enhanced', 'warming', 'in', 'the', 'polar', 'and', 'seasonally', 'snow', 'covered', 'regions', 'as', 'a', 'result', 'of', 'global', 'warming', 'clouds', 'clouds', 'are', 'another', 'source', 'of', 'albedo', 'that', 'play', 'into', 'the', 'global', 'warming', 'equation', 'different', 'types', 'of', 'clouds', 'have', 'different', 'albedo', 'values', 'theoretically', 'ranging', 'from', 'a', 'minimum', 'of', 'near', 'zero', 'to', 'a', 'maximum', 'in', 'the', 'high', 'seven', 'zero', 's', 'climate', 'models', 'have', 'shown', 'that', 'if', 'the', 'whole', 'earth', 'were', 'to', 'be', 'suddenly', 'covered', 'by', 'white', 'clouds', 'the', 'surface', 'temperatures', 'would', 'drop', 'to', 'a', 'value', 'of', 'about', 'one', 'five', 'zero', 'c', 'two', 'four', 'zero', 'f', 'this', 'model', 'though', 'it', 'is', 'far', 'from', 'perfect', 'also', 'predicts', 'that', 'to', 'offset', 'a', 'five', 'c', 'nine', 'f', 'temperature', 'change', 'due', 'to', 'an', 'increase', 'in', 'the', 'magnitude', 'of', 'the', 'greenhouse', 'effect', 'all', 'we', 'would', 'need', 'to', 'do', 'is', 'increase', 'the', 'earth', 's', 'overall', 'albedo', 'by', 'about', 'one', 'two', 'by', 'adding', 'more', 'white', 'clouds', 'albedo', 'and', 'climate', 'in', 'some', 'areas', 'are', 'already', 'affected', 'by', 'artificial', 'clouds', 'such', 'as', 'those', 'created', 'by', 'the', 'contrails', 'of', 'heavy', 'commercial', 'airliner', 'traffic', 'a', 'study', 'following', 'the', 'september', 'one', 'one', 'attacks', 'after', 'which', 'all', 'major', 'airlines', 'in', 'the', 'u', 's', 'shut', 'down', 'for', 'three', 'days', 'showed', 'a', 'local', 'one', 'c', 'increase', 'in', 'the', 'daily', 'temperature', 'range', 'the', 'difference', 'of', 'day', 'and', 'night', 'temperatures', 'see', 'contrail', 'aerosol', 'effects', 'aerosol', 'very', 'fine', 'particles', 'droplets', 'in', 'the', 'atmosphere', 'has', 'two', 'effects', 'direct', 'and', 'indirect', 'the', 'direct', 'albedo', 'effect', 'is', 'generally', 'to', 'cool', 'the', 'planet', 'the', 'indirect', 'effect', 'the', 'particles', 'act', 'as', 'ccns', 'and', 'thereby', 'change', 'cloud', 'properties', 'is', 'less', 'certain', 'black', 'carbon', 'another', 'albedo', 'related', 'effect', 'on', 'the', 'climate', 'is', 'from', 'black', 'carbon', 'particles', 'the', 'size', 'of', 'this', 'effect', 'is', 'difficult', 'to', 'quantify', 'the', 'ipcc', 'say', 'that', 'their', 'estimate', 'of', 'the', 'global', 'mean', 'radiative', 'forcing', 'for', 'bc', 'aerosols', 'from', 'fossil', 'fuels', 'is', 'zero', 'two', 'w', 'm', 'two', 'from', 'zero', 'one', 'w', 'm', 'two', 'in', 'the', 'sar', 'with', 'a', 'range', 'zero', 'one', 'to', 'zero', 'four', 'w', 'm', 'two', 'electromagnetic', 'radiation', 'climatology', 'climate', 'forcing', 'astrophysics', 'view', 'of', 'abu', 'dhabi', 'satellite', 'image', 'of', 'abu', 'dhabi', 'march', 'two', 'zero', 'zero', 'three', 'emirates', 'palace', 'hotel', 'front', 'emirates', 'palace', 'hotel', 'from', 'the', 'side', 'abu', 'dhabi', 'arabic', 'ab', 'aby', 'is', 'the', 'largest', 'of', 'the', 'seven', 'emirates', 'that', 'comprise', 'the', 'united', 'arab', 'emirates', 'and', 'was', 'also', 'the', 'largest', 'of', 'the', 'former', 'trucial', 'states', 'abu', 'dhabi', 'is', 'also', 'a', 'city', 'of', 'the', 'same', 'name', 'within', 'the', 'emirate', 'that', 'is', 'the', 'capital', 'of', 'the', 'country', 'in', 'north', 'central', 'uae', 'the', 'city', 'lies', 'on', 'a', 't', 'shaped', 'island', 'jutting', 'into', 'the', 'persian', 'gulf', 'from', 'the', 'central', 'western', 'coast', 'an', 'estimated', 'one', 'zero', 'zero', 'zero', 'zero', 'zero', 'zero', 'lived', 'there', 'in', 'two', 'zero', 'zero', 'zero', 'with', 'about', 'an', 'eight', 'zero', 'expatriate', 'population', 'abu', 'dhabi', 'city', 'is', 'located', 'at', 'al', 'ain', 'is', 'abu', 'dhabi', 's', 'second', 'largest', 'urban', 'area', 'with', 'a', 'population', 'of', 'three', 'four', 'eight', 'zero', 'zero', 'zero', 'two', 'zero', 'zero', 'three', 'census', 'estimate', 'and', 'is', 'located', 'one', 'five', 'zero', 'kilometres', 'inland', 'history', 'parts', 'of', 'abu', 'dhabi', 'were', 'settled', 'as', 'far', 'back', 'as', 'the', 'three', 'rd', 'millennium', 'bc', 'and', 'its', 'early', 'history', 'fits', 'the', 'nomadic', 'herding', 'and', 'fishing', 'pattern', 'typical', 'of', 'the', 'broader', 'region', 'modern', 'abu', 'dhabi', 'traces', 'its', 'origins', 'to', 'the', 'rise', 'of', 'an', 'important', 'tribal', 'confederation', 'the', 'bani', 'yas', 'in', 'the', 'late', 'one', 'eight', 'th', 'century', 'who', 'also', 'assumed', 'control', 'of', 'dubai', 'in', 'the', 'one', 'nine', 'th', 'century', 'the', 'dubai', 'and', 'abu', 'dhabi', 'branches', 'parted', 'ways', 'into', 'the', 'mid', 'two', 'zero', 'th', 'century', 'the', 'economy', 'of', 'abu', 'dhabi', 'continued', 'to', 'be', 'sustained', 'mainly', 'by', 'camel', 'herding', 'production', 'of', 'dates', 'and', 'vegetables', 'at', 'the', 'inland', 'oases', 'of', 'al', 'ain', 'and', 'liwa', 'and', 'fishing', 'and', 'pearl', 'diving', 'off', 'the', 'coast', 'of', 'abu', 'dhabi', 'city', 'which', 'was', 'occupied', 'mainly', 'during', 'the', 'summer', 'months', 'most', 'dwellings', 'in', 'abu', 'dhabi', 'city', 'were', 'at', 'this', 'time', 'constructed', 'of', 'palm', 'fronds', 'barasti', 'with', 'the', 'better', 'off', 'families', 'occupying', 'mud', 'huts', 'the', 'growth', 'of', 'the', 'cultured', 'pearl', 'industry', 'in', 'the', 'first', 'half', 'of', 'the', 'two', 'zero', 'th', 'century', 'created', 'hardship', 'for', 'residents', 'of', 'abu', 'dhabi', 'as', 'pearls', 'represented', 'the', 'largest', 'export', 'and', 'main', 'source', 'of', 'cash', 'earnings', 'in', 'one', 'nine', 'three', 'nine', 'sheikh', 'shakhbut', 'bin', 'sultan', 'al', 'nahyan', 'granted', 'petroleum', 'concessions', 'and', 'oil', 'was', 'first', 'found', 'in', 'one', 'nine', 'five', 'eight', 'at', 'first', 'oil', 'money', 'had', 'a', 'marginal', 'impact', 'a', 'few', 'lowrise', 'concete', 'buildings', 'were', 'erected', 'and', 'the', 'first', 'paved', 'road', 'was', 'completed', 'in', 'one', 'nine', 'six', 'one', 'but', 'sheikh', 'shakbut', 'uncertain', 'whether', 'the', 'new', 'oil', 'royalties', 'would', 'last', 'took', 'a', 'cautious', 'approach', 'prefering', 'to', 'save', 'the', 'revenue', 'rather', 'than', 'investing', 'it', 'in', 'development', 'his', 'brother', 'zayed', 'bin', 'sultan', 'al', 'nahayan', 'saw', 'that', 'oil', 'wealth', 'had', 'the', 'potential', 'to', 'transform', 'abu', 'dhabi', 'the', 'ruling', 'al', 'nahayan', 'family', 'decided', 'that', 'sheikh', 'zayed', 'should', 'replace', 'his', 'brother', 'as', 'ruler', 'and', 'carry', 'out', 'his', 'vision', 'of', 'developing', 'the', 'country', 'on', 'august', 'six', 'one', 'nine', 'six', 'six', 'with', 'the', 'assistance', 'of', 'the', 'british', 'sheikh', 'zayed', 'became', 'the', 'new', 'ruler', 'see', 'generally', 'al', 'fahim', 'm', 'from', 'rags', 'to', 'riches', 'a', 'story', 'of', 'abu', 'dhabi', 'chapter', 'six', 'london', 'centre', 'of', 'arab', 'studies', 'one', 'nine', 'nine', 'five', 'isbn', 'one', 'nine', 'zero', 'zero', 'four', 'zero', 'four', 'zero', 'zero', 'one', 'with', 'the', 'announcement', 'by', 'britain', 'in', 'one', 'nine', 'six', 'eight', 'that', 'it', 'would', 'withdraw', 'from', 'the', 'gulf', 'area', 'by', 'one', 'nine', 'seven', 'one', 'sheikh', 'zayed', 'became', 'the', 'main', 'driving', 'force', 'behind', 'the', 'formation', 'of', 'the', 'united', 'arab', 'emirates', 'after', 'the', 'emirates', 'gained', 'independence', 'in', 'one', 'nine', 'seven', 'one', 'oil', 'wealth', 'continued', 'to', 'flow', 'to', 'the', 'area', 'and', 'traditional', 'mud', 'brick', 'huts', 'were', 'rapidly', 'replaced', 'with', 'banks', 'boutiques', 'and', 'modern', 'highrises', 'current', 'ruler', 'his', 'highness', 'sheikh', 'khalifa', 'bin', 'zayed', 'al', 'nahayan', 'is', 'the', 'hereditary', 'emir', 'and', 'ruler', 'of', 'abu', 'dhabi', 'as', 'well', 'as', 'the', 'current', 'president', 'of', 'the', 'united', 'arab', 'emirates', 'uae', 'postal', 'history', 'shaikh', 'zaid', 'one', 'nine', 'six', 'seven', 'now', 'part', 'of', 'the', 'united', 'arab', 'emirates', 'abu', 'dhabi', 'was', 'formerly', 'the', 'largest', 'of', 'the', 'seven', 'sheikdoms', 'which', 'made', 'up', 'the', 'trucial', 'states', 'on', 'the', 'so', 'called', 'pirate', 'coast', 'of', 'eastern', 'arabia', 'between', 'oman', 'and', 'qatar', 'the', 'trucial', 'states', 'as', 'a', 'whole', 'had', 'an', 'area', 'of', 'some', 'three', 'two', 'zero', 'zero', 'zero', 'square', 'miles', 'of', 'which', 'abu', 'dhabi', 'alone', 'had', 'two', 'six', 'zero', 'zero', 'zero', 'the', 'capital', 'was', 'the', 'town', 'of', 'abu', 'dhabi', 'which', 'is', 'on', 'an', 'offshore', 'island', 'and', 'was', 'first', 'settled', 'in', 'one', 'seven', 'six', 'one', 'the', 'name', 'trucial', 'states', 'arose', 'from', 'treaties', 'made', 'with', 'great', 'britain', 'in', 'one', 'eight', 'two', 'zero', 'which', 'ensured', 'a', 'condition', 'of', 'truce', 'in', 'the', 'area', 'and', 'the', 'suppression', 'of', 'piracy', 'and', 'slavery', 'the', 'treaty', 'expired', 'on', 'three', 'one', 'december', 'one', 'nine', 'six', 'six', 'the', 'decision', 'to', 'form', 'the', 'uae', 'was', 'made', 'on', 'one', 'eight', 'july', 'one', 'nine', 'seven', 'one', 'and', 'the', 'federation', 'was', 'founded', 'on', 'one', 'august', 'one', 'nine', 'seven', 'two', 'although', 'the', 'inaugural', 'uae', 'stamps', 'were', 'not', 'issued', 'until', 'one', 'january', 'one', 'nine', 'seven', 'three', 'oil', 'production', 'began', 'on', 'das', 'island', 'after', 'prospecting', 'during', 'one', 'nine', 'five', 'six', 'one', 'nine', 'six', 'zero', 'das', 'island', 'is', 'part', 'of', 'abu', 'dhabi', 'but', 'lies', 'well', 'offshore', 'about', 'one', 'zero', 'zero', 'miles', 'north', 'of', 'the', 'mainland', 'oil', 'production', 'on', 'the', 'mainland', 'began', 'in', 'one', 'nine', 'six', 'two', 'as', 'a', 'major', 'oil', 'producer', 'abu', 'dhabi', 'soon', 'acquired', 'massive', 'financial', 'wealth', 'investment', 'in', 'long', 'term', 'construction', 'projects', 'and', 'the', 'establishment', 'of', 'a', 'finance', 'sector', 'has', 'led', 'to', 'the', 'area', 'becoming', 'a', 'centre', 'of', 'commerce', 'which', 'may', 'well', 'secure', 'its', 'lasting', 'importance', 'when', 'the', 'oil', 'resources', 'are', 'exhausted', 'in', 'december', 'one', 'nine', 'six', 'zero', 'postage', 'stamps', 'of', 'british', 'postal', 'agencies', 'in', 'eastern', 'arabia', 'were', 'supplied', 'to', 'the', 'construction', 'workers', 'on', 'das', 'island', 'but', 'the', 'postal', 'service', 'was', 'administered', 'via', 'the', 'agency', 'office', 'in', 'bahrain', 'the', 'mail', 'was', 'also', 'postmarked', 'bahrain', 'so', 'there', 'was', 'no', 'clear', 'indication', 'that', 'a', 'letter', 'had', 'come', 'from', 'das', 'island', 'on', 'three', 'zero', 'march', 'one', 'nine', 'six', 'three', 'a', 'british', 'agency', 'was', 'opened', 'in', 'abu', 'dhabi', 'and', 'issued', 'the', 'agency', 'stamps', 'after', 'the', 'sheik', 'objected', 'to', 'the', 'use', 'of', 'the', 'trucial', 'states', 'definitives', 'mail', 'from', 'das', 'island', 'continued', 'to', 'be', 'administered', 'by', 'bahrain', 'but', 'was', 'now', 'cancelled', 'by', 'an', 'abu', 'dhabi', 'trucial', 'states', 'postmark', 'the', 'first', 'abu', 'dhabi', 'stamps', 'were', 'a', 'definitive', 'series', 'of', 'three', 'zero', 'march', 'one', 'nine', 'six', 'four', 'depicting', 'shaikh', 'shakhbut', 'bin', 'sultan', 'al', 'nahyan', 'there', 'were', 'eleven', 'values', 'under', 'the', 'indian', 'currency', 'that', 'was', 'used', 'of', 'one', 'zero', 'zero', 'naye', 'paise', 'one', 'rupee', 'the', 'range', 'of', 'values', 'was', 'five', 'np', 'to', 'one', 'zero', 'rupees', 'despite', 'the', 'introduction', 'of', 'these', 'definitives', 'the', 'british', 'agency', 'stamps', 'remained', 'valid', 'in', 'both', 'abu', 'dhabi', 'and', 'das', 'island', 'until', 'the', 'end', 'of', 'one', 'nine', 'six', 'six', 'when', 'they', 'were', 'withdrawn', 'a', 'post', 'office', 'was', 'opened', 'on', 'das', 'island', 'on', 'six', 'january', 'one', 'nine', 'six', 'six', 'and', 'this', 'ended', 'the', 'bahrain', 'service', 'mail', 'from', 'das', 'island', 'was', 'now', 'handled', 'within', 'abu', 'dhabi', 'when', 'the', 'treaty', 'with', 'great', 'britain', 'expired', 'at', 'the', 'end', 'of', 'one', 'nine', 'six', 'six', 'abu', 'dhabi', 'introduced', 'a', 'new', 'currency', 'of', 'one', 'zero', 'zero', 'zero', 'fils', 'one', 'dinar', 'and', 'took', 'over', 'its', 'own', 'postal', 'administration', 'including', 'the', 'das', 'island', 'office', 'the', 'earlier', 'issues', 'were', 'subject', 'to', 'surcharges', 'in', 'this', 'currency', 'and', 'replacement', 'definitives', 'were', 'released', 'depicting', 'the', 'new', 'ruler', 'shaikh', 'zaid', 'issues', 'continued', 'until', 'introduction', 'of', 'uae', 'stamps', 'in', 'one', 'nine', 'seven', 'three', 'in', 'all', 'abu', 'dhabi', 'issued', 'nine', 'five', 'stamps', 'from', 'one', 'nine', 'six', 'four', 'to', 'one', 'nine', 'seven', 'two', 'the', 'final', 'set', 'being', 'three', 'views', 'of', 'the', 'dome', 'of', 'the', 'rock', 'in', 'jerusalem', 'source', 'encyclopaedia', 'of', 'postal', 'history', 'climate', 'sunny', 'blue', 'skies', 'can', 'be', 'expected', 'through', 'out', 'the', 'year', 'the', 'months', 'june', 'through', 'september', 'are', 'generally', 'hot', 'and', 'humid', 'with', 'temperatures', 'averaging', 'above', 'four', 'zero', 'c', 'one', 'one', 'zero', 'f', 'the', 'weather', 'is', 'usually', 'pleasant', 'from', 'october', 'to', 'may', 'january', 'to', 'february', 'is', 'cooler', 'and', 'may', 'require', 'the', 'use', 'of', 'a', 'light', 'jacket', 'the', 'oasis', 'city', 'of', 'al', 'ain', 'enjoys', 'cooler', 'temperatures', 'even', 'through', 'summer', 'due', 'to', 'sporadic', 'rainfall', 'transport', 'abu', 'dhabi', 'international', 'airport', 'serves', 'this', 'city', 'the', 'local', 'time', 'is', 'gmt', 'four', 'hours', 'trivia', 'the', 'cartoon', 'cat', 'garfield', 'would', 'often', 'put', 'the', 'kitten', 'nermal', 'in', 'a', 'box', 'and', 'ship', 'him', 'to', 'abu', 'dhabi', 'a', 'common', 'phrase', 'from', 'garfield', 'is', 'abu', 'dhabi', 'is', 'where', 'all', 'the', 'cute', 'kittens', 'go', 'the', 'reason', 'is', 'that', 'the', 'author', 'of', 'garfield', 'found', 'out', 'through', 'over', 'seas', 'relations', 'that', 'the', 'city', 'of', 'abu', 'dhabi', 'and', 'the', 'majority', 'of', 'uae', 'has', 'a', 'large', 'amount', 'of', 'cats', 'that', 'roam', 'wild', 'many', 'live', 'around', 'the', 'suburbs', 'see', 'also', 'mina', 'zayid', 'the', 'port', 'of', 'abu', 'dhabi', 'al', 'ain', 'marawah', 'postal', 'authorities', 'saudi', 'arabia', 'transportation', 'in', 'the', 'united', 'arab', 'emirates', 'external', 'links', 'encyclopaedia', 'of', 'postal', 'history', 'abu', 'dhabi', 'the', 'persian', 'gulf', 'abudhabi', 'com', 'abu', 'dhabi', 'chamber', 'of', 'commerce', 'and', 'industry', 'abu', 'dhabi', 'national', 'oil', 'company', 'spe', 'history', 'with', 'oil', 'details', 'abu', 'dhabi', 'postal', 'history', 'adias', 'abu', 'dhabi', 'islands', 'archaeological', 'survey', 'expatriates', 'forums', 'in', 'abu', 'dhabi', 'time', 'out', 'abu', 'dhabi', 'guide', 'to', 'life', 'in', 'abu', 'dhabi', 'career', 'uae', 'useful', 'web', 'site', 'for', 'the', 'job', 'seekers', 'in', 'abu', 'dabi', 'united', 'arab', 'emirates', 'non', 'government', 'organisations', 'ansar', 'burney', 'trust', 'human', 'rights', 'and', 'anti', 'slavery', 'organisation', 'capitals', 'in', 'asia', 'cities', 'in', 'the', 'united', 'arab', 'emirates', 'emirates', 'coastal', 'cities', 'philately', 'by', 'country', 'the', 'letter', 'a', 'is', 'the', 'first', 'letter', 'in', 'the', 'latin', 'alphabet', 'its', 'name', 'in', 'english', 'is', 'a', 'plural', 'aes', 'a', 's', 'or', 'as', 'history', 'the', 'letter', 'a', 'probably', 'started', 'as', 'a', 'pictogram', 'of', 'an', 'ox', 'head', 'in', 'egyptian', 'hieroglyphs', 'or', 'the', 'proto', 'semitic', 'alphabet', 'by', 'one', 'six', 'zero', 'zero', 'bc', 'the', 'phoenician', 'alphabet', 's', 'letter', 'had', 'a', 'linear', 'form', 'that', 'served', 'as', 'the', 'basis', 'for', 'all', 'later', 'forms', 'its', 'name', 'must', 'have', 'corresponded', 'closely', 'to', 'the', 'hebrew', 'aleph', 'the', 'name', 'is', 'also', 'similar', 'to', 'the', 'arabic', 'alif', 'when', 'the', 'ancient', 'greeks', 'adopted', 'the', 'alphabet', 'they', 'had', 'no', 'use', 'for', 'the', 'glottal', 'stop', 'that', 'the', 'letter', 'had', 'denoted', 'in', 'phoenician', 'and', 'other', 'semitic', 'languages', 'so', 'they', 'used', 'the', 'sign', 'for', 'the', 'vowel', 'and', 'changed', 'its', 'name', 'to', 'alpha', 'in', 'the', 'earliest', 'greek', 'inscriptions', 'dating', 'to', 'the', 'eight', 'th', 'century', 'bc', 'the', 'letter', 'rests', 'upon', 'its', 'side', 'but', 'in', 'the', 'greek', 'alphabet', 'of', 'later', 'times', 'it', 'generally', 'resembles', 'the', 'modern', 'capital', 'letter', 'although', 'many', 'local', 'varieties', 'can', 'be', 'distinguished', 'by', 'the', 'shortening', 'of', 'one', 'leg', 'or', 'by', 'the', 'angle', 'at', 'which', 'the', 'cross', 'line', 'is', 'set', 'the', 'etruscans', 'brought', 'the', 'greek', 'alphabet', 'to', 'what', 'was', 'italy', 'and', 'left', 'the', 'letter', 'unchanged', 'the', 'romans', 'later', 'adopted', 'the', 'etruscan', 'alphabet', 'to', 'write', 'latin', 'and', 'the', 'resulting', 'letter', 'was', 'preserved', 'in', 'the', 'modern', 'latin', 'alphabet', 'used', 'to', 'write', 'many', 'languages', 'including', 'english', 'the', 'letter', 'has', 'two', 'minuscule', 'lower', 'case', 'forms', 'the', 'form', 'used', 'in', 'most', 'current', 'handwriting', 'consists', 'of', 'a', 'circle', 'and', 'vertical', 'stroke', 'most', 'printed', 'material', 'uses', 'a', 'form', 'consisting', 'of', 'a', 'small', 'loop', 'with', 'an', 'arc', 'over', 'it', 'both', 'derive', 'from', 'the', 'majuscule', 'capital', 'form', 'in', 'greek', 'handwriting', 'it', 'was', 'common', 'to', 'join', 'the', 'left', 'leg', 'and', 'horizontal', 'stroke', 'into', 'a', 'single', 'loop', 'as', 'demonstrated', 'by', 'the', 'uncial', 'version', 'below', 'many', 'fonts', 'then', 'made', 'the', 'right', 'leg', 'vertical', 'in', 'some', 'of', 'these', 'the', 'serif', 'that', 'began', 'the', 'right', 'leg', 'stroke', 'developed', 'into', 'an', 'arc', 'resulting', 'in', 'the', 'printed', 'form', 'while', 'in', 'others', 'it', 'was', 'dropped', 'resulting', 'in', 'the', 'modern', 'handwritten', 'form', 'usage', 'in', 'english', 'the', 'letter', 'a', 'by', 'itself', 'usually', 'denotes', 'the', 'lax', 'open', 'front', 'unrounded', 'vowel', 'as', 'in', 'pad', 'the', 'open', 'back', 'unrounded', 'vowel', 'as', 'in', 'father', 'or', 'in', 'concert', 'with', 'a', 'later', 'orthographic', 'e', 'the', 'diphthong', 'though', 'the', 'pronunciation', 'varies', 'with', 'the', 'dialect', 'as', 'in', 'ace', 'due', 'to', 'effects', 'of', 'the', 'great', 'vowel', 'shift', 'in', 'most', 'other', 'languages', 'that', 'use', 'the', 'latin', 'alphabet', 'the', 'letter', 'a', 'denotes', 'either', 'an', 'open', 'back', 'unrounded', 'vowel', 'or', 'an', 'open', 'central', 'unrounded', 'vowel', 'in', 'the', 'international', 'phonetic', 'alphabet', 'variants', 'of', 'the', 'letter', 'a', 'denote', 'various', 'vowels', 'in', 'x', 'sampa', 'capital', 'a', 'denotes', 'the', 'open', 'back', 'unrounded', 'vowel', 'and', 'lowercase', 'a', 'denotes', 'the', 'open', 'front', 'unrounded', 'vowel', 'a', 'also', 'is', 'the', 'english', 'indefinite', 'article', 'extended', 'to', 'an', 'before', 'a', 'vowel', 'codes', 'for', 'computing', 'in', 'unicode', 'the', 'capital', 'a', 'is', 'codepoint', 'u', 'zero', 'zero', 'four', 'one', 'and', 'the', 'lowercase', 'a', 'is', 'u', 'zero', 'zero', 'six', 'one', 'in', 'hex', 'a', 'is', 'the', 'character', 'used', 'to', 'represent', 'decimal', 'one', 'zero', 'or', 'in', 'binary', 'zero', 'one', 'zero', 'one', 'zero', 'the', 'ascii', 'code', 'for', 'capital', 'a', 'is', 'six', 'five', 'and', 'for', 'lowercase', 'a', 'is', 'nine', 'seven', 'or', 'in', 'binary', 'zero', 'one', 'zero', 'zero', 'zero', 'zero', 'zero', 'one', 'and', 'zero', 'one', 'one', 'zero', 'zero', 'zero', 'zero', 'one', 'correspondingly', 'the', 'ebcdic', 'code', 'for', 'capital', 'a', 'is', 'one', 'nine', 'three', 'and', 'for', 'lowercase', 'a', 'is', 'one', 'two', 'nine', 'the', 'numeric', 'character', 'references', 'in', 'html', 'and', 'xml', 'are', 'six', 'five', 'and', 'nine', 'seven', 'for', 'upper', 'and', 'lower', 'case', 'respectively', 'meanings', 'for', 'a', 'as', 'a', 'word', 'see', 'a', 'an', 'in', 'american', 'major', 'league', 'baseball', 'the', 'oakland', 'athletics', 'are', 'often', 'simply', 'referred', 'to', 'as', 'the', 'a', 's', 'in', 'astronomy', 'a', 'stands', 'for', 'a', 'january', 'one', 'through', 'one', 'five', 'discovery', 'in', 'the', 'provisional', 'designation', 'of', 'a', 'comet', 'e', 'g', 'c', 'one', 'seven', 'six', 'zero', 'a', 'one', 'the', 'great', 'comet', 'of', 'one', 'seven', 'six', 'zero', 'or', 'asteroid', 'e', 'g', 'a', 'is', 'often', 'used', 'to', 'denote', 'the', 'semi', 'major', 'axis', 'of', 'an', 'orbit', 'in', 'biochemistry', 'a', 'is', 'the', 'symbol', 'for', 'alanine', 'and', 'adenosine', 'brassiere', 'cup', 'size', 'a', 'in', 'calendars', 'a', 'is', 'often', 'an', 'abbreviation', 'for', 'the', 'months', 'april', 'and', 'august', 'in', 'computing', 'is', 'the', 'html', 'element', 'for', 'an', 'anchor', 'tag', 'in', 'windows', 'ctrl', 'a', 'and', 'mac', 'os', 'command', 'a', 'selects', 'all', 'the', 'text', 'in', 'the', 'document', 'or', 'all', 'the', 'pixels', 'of', 'an', 'image', 'a', 'sometimes', 'represents', 'the', 'set', 'of', 'all', 'alphabetic', 'characters', 'within', 'string', 'patterns', 'a', 'is', 'the', 'conventional', 'address', 'of', 'the', 'first', 'floppy', 'disk', 'drive', 'in', 'cp', 'm', 'based', 'operating', 'systems', 'such', 'as', 'dos', 'a', 'is', 'a', 'security', 'division', 'verified', 'protection', 'in', 'the', 'tcsec', 'in', 'education', 'a', 'grade', 'of', 'a', 'typically', 'represents', 'the', 'highest', 'score', 'that', 'students', 'can', 'achieve', 'this', 'is', 'sometimes', 'coupled', 'with', 'a', 'plus', 'minus', 'sign', 'as', 'in', 'a', 'or', 'a', 'or', 'a', 'number', 'as', 'in', 'a', 'one', 'it', 'is', 'occasionally', 'a', 'grade', 'one', 'level', 'below', 'a', 'pronounced', 'a', 'star', 'in', 'electronics', 'a', 'is', 'a', 'standard', 'size', 'of', 'battery', 'a', 'refers', 'to', 'the', 'anode', 'or', 'filament', 'component', 'of', 'a', 'vacuum', 'tube', 'in', 'english', 'the', 'word', 'a', 'is', 'an', 'indefinite', 'article', 'see', 'a', 'an', 'in', 'esperanto', 'a', 'is', 'the', 'adjectival', 'attributive', 'ending', 'a', 'is', 'commonly', 'an', 'abbreviation', 'meaning', 'english', 'language', 'in', 'fiction', 'the', 'letter', 'worn', 'by', 'hester', 'prynne', 'marking', 'her', 'as', 'an', 'adultress', 'in', 'the', 'nathaniel', 'hawthorne', 'novel', 'the', 'scarlet', 'letter', 'was', 'an', 'a', 'in', 'film', 'a', 'is', 'an', 'italian', 'film', 'made', 'in', 'one', 'nine', 'six', 'nine', 'see', 'a', 'film', 'in', 'finance', 'a', 'is', 'the', 'u', 's', 'ticker', 'symbol', 'for', 'agilent', 'technologies', 'in', 'games', 'the', 'letter', 'a', 'is', 'used', 'to', 'mark', 'each', 'of', 'the', 'aces', 'in', 'a', 'deck', 'of', 'playing', 'cards', 'in', 'greek', 'a', 'is', 'a', 'prefix', 'alpha', 'privativum', 'meaning', 'not', 'or', 'devoid', 'of', 'used', 'in', 'many', 'borrowed', 'words', 'in', 'english', 'german', 'and', 'romance', 'languages', 'in', 'india', 'a', 'is', 'movie', 'rating', 'given', 'to', 'those', 'intended', 'to', 'be', 'seen', 'only', 'by', 'adults', 'in', 'international', 'licence', 'plate', 'codes', 'a', 'stands', 'for', 'austria', 'in', 'international', 'paper', 'sizes', 'a', 'is', 'a', 'series', 'of', 'sizes', 'with', 'an', 'aspect', 'ratio', 'of', 'roughly', 'seven', 'zero', 'width', 'to', 'height', 'with', 'a', 'four', 'being', 'an', 'example', 'popular', 'size', 'in', 'logic', 'the', 'letter', 'a', 'is', 'used', 'as', 'a', 'symbol', 'for', 'the', 'universal', 'affirmative', 'proposition', 'in', 'the', 'general', 'form', 'all', 'x', 'is', 'y', 'the', 'letters', 'i', 'e', 'and', 'o', 'are', 'used', 'respectively', 'for', 'the', 'particular', 'affirmative', 'some', 'x', 'is', 'y', 'the', 'universal', 'negative', 'no', 'x', 'is', 'y', 'and', 'the', 'particular', 'negative', 'some', 'x', 'is', 'not', 'y', 'the', 'use', 'of', 'these', 'letters', 'is', 'generally', 'derived', 'from', 'the', 'vowels', 'of', 'the', 'two', 'latin', 'verbs', 'affirmo', 'or', 'aio', 'i', 'assert', 'and', 'nego', 'i', 'deny', 'the', 'use', 'of', 'the', 'symbols', 'dates', 'from', 'the', 'one', 'three', 'th', 'century', 'though', 'some', 'authorities', 'trace', 'their', 'origin', 'to', 'the', 'greek', 'logicians', 'in', 'symbolic', 'logic', 'the', 'symbol', 'an', 'inverted', 'letter', 'a', 'is', 'the', 'universal', 'quantifier', 'in', 'mathematics', 'a', 'is', 'often', 'used', 'as', 'a', 'digit', 'meaning', 'ten', 'in', 'hexadecimal', 'and', 'other', 'positional', 'numeral', 'systems', 'with', 'a', 'radix', 'of', 'one', 'one', 'or', 'greater', 'blackboard', 'bold', 'mathbb', 'in', 'unicode', 'sometimes', 'represents', 'the', 'algebraic', 'numbers', 'in', 'the', 'on', 'line', 'encyclopedia', 'of', 'integer', 'sequences', 'each', 'sequence', 'has', 'an', 'id', 'consisting', 'of', 'the', 'letter', 'a', 'and', 'six', 'base', 'one', 'zero', 'digits', 'in', 'medicine', 'a', 'also', 'a', 'or', 'a', 'is', 'one', 'of', 'the', 'human', 'blood', 'types', 'in', 'music', 'a', 'is', 'a', 'pitch', 'class', 'or', 'note', 'see', 'a', 'musical', 'note', 'a', 'or', 'side', 'a', 'refers', 'to', 'the', 'top', 'or', 'first', 'side', 'of', 'a', 'vinyl', 'record', 'a', 'is', 'a', 'british', 'rock', 'band', 'see', 'a', 'band', 'a', 'is', 'an', 'album', 'by', 'jethro', 'tull', 'see', 'a', 'album', 'in', 'nutrition', 'a', 'is', 'a', 'vitamin', 'in', 'photography', 'most', 'slr', 'cameras', 'use', 'a', 'to', 'signify', 'aperture', 'priority', 'mode', 'where', 'the', 'user', 'sets', 'the', 'aperture', 'and', 'the', 'camera', 'determines', 'the', 'shutter', 'speed', 'in', 'poetry', 'a', 'is', 'the', 'major', 'work', 'of', 'influential', 'two', 'zero', 'th', 'century', 'author', 'louis', 'zukofsky', 'in', 'political', 'theory', 'a', 'circumscribed', 'a', 'is', 'an', 'anarchist', 'symbol', 'as', 'the', 'first', 'letter', 'of', 'a', 'postal', 'code', 'in', 'canada', 'a', 'stands', 'for', 'newfoundland', 'and', 'labrador', 'on', 'the', 'serial', 'numbers', 'of', 'united', 'states', 'dollars', 'a', 'identifies', 'the', 'federal', 'reserve', 'bank', 'of', 'boston', 'in', 'the', 'si', 'system', 'of', 'units', 'a', 'is', 'the', 'symbol', 'for', 'the', 'ampere', 'or', 'amp', 'the', 'si', 'base', 'unit', 'of', 'electric', 'current', 'a', 'atto', 'is', 'the', 'si', 'prefix', 'meaning', 'one', 'zero', 'one', 'eight', 'a', 'is', 'the', 'symbol', 'for', 'the', 'are', 'a', 'unit', 'of', 'surface', 'area', 'equal', 'to', 'one', 'zero', 'zero', 'square', 'metres', 'as', 'a', 'timezone', 'a', 'is', 'the', 'military', 'designation', 'for', 'coordinated', 'universal', 'time', 'one', 'also', 'known', 'as', 'cet', 'or', 'central', 'european', 'time', 'see', 'also', 'alpha', 'cyrillic', 'a', 'ae', 'aa', 'latin', 'letters', 'vowels', 'alabama', 'cities', 'and', 'urban', 'areas', 'sprawl', 'alabama', 'is', 'a', 'state', 'located', 'in', 'the', 'southern', 'united', 'states', 'history', 'main', 'article', 'history', 'of', 'alabama', 'the', 'memory', 'of', 'the', 'native', 'american', 'presence', 'is', 'particularly', 'strong', 'in', 'alabama', 'among', 'native', 'american', 'people', 'once', 'living', 'in', 'present', 'alabama', 'were', 'alabama', 'alibamu', 'cherokee', 'chickasaw', 'choctaw', 'creek', 'koasati', 'and', 'mobile', 'trade', 'with', 'the', 'northeast', 'via', 'the', 'ohio', 'river', 'began', 'during', 'the', 'burial', 'mound', 'period', 'one', 'zero', 'zero', 'zero', 'bc', 'a', 'd', 'seven', 'zero', 'zero', 'and', 'continued', 'until', 'european', 'contact', 'meso', 'american', 'influence', 'is', 'evident', 'in', 'the', 'agrarian', 'mississippian', 'culture', 'that', 'followed', 'the', 'french', 'established', 'the', 'first', 'european', 'settlement', 'in', 'the', 'state', 'with', 'the', 'establishment', 'of', 'mobile', 'in', 'one', 'seven', 'zero', 'two', 'southern', 'alabama', 'was', 'french', 'from', 'one', 'seven', 'zero', 'two', 'one', 'seven', 'six', 'three', 'part', 'of', 'british', 'west', 'florida', 'from', 'one', 'seven', 'six', 'three', 'one', 'seven', 'eight', 'zero', 'and', 'part', 'of', 'spanish', 'west', 'florida', 'from', 'one', 'seven', 'eight', 'zero', 'one', 'eight', 'one', 'four', 'northern', 'and', 'central', 'alabama', 'was', 'part', 'of', 'british', 'georgia', 'from', 'one', 'seven', 'six', 'three', 'one', 'seven', 'eight', 'three', 'and', 'part', 'of', 'the', 'american', 'mississippi', 'territory', 'thereafter', 'its', 'statehood', 'delayed', 'by', 'the', 'lack', 'of', 'a', 'coastline', 'rectified', 'when', 'andrew', 'jackson', 'captured', 'spanish', 'mobile', 'in', 'one', 'eight', 'one', 'four', 'alabama', 'became', 'the', 'two', 'two', 'nd', 'state', 'in', 'one', 'eight', 'one', 'nine', 'the', 'state', 'of', 'alabama', 'seceded', 'from', 'the', 'union', 'on', 'january', 'one', 'one', 'one', 'eight', 'six', 'one', 'and', 'became', 'the', 'alabama', 'republic', 'and', 'on', 'february', 'one', 'eight', 'one', 'eight', 'six', 'one', 'became', 'a', 'confederate', 'state', 'while', 'not', 'many', 'battles', 'were', 'fought', 'in', 'the', 'state', 'it', 'contributed', 'about', 'one', 'two', 'zero', 'zero', 'zero', 'zero', 'soldiers', 'to', 'the', 'civil', 'war', 'after', 'the', 'war', 'a', 'provisional', 'government', 'was', 'set', 'up', 'in', 'one', 'eight', 'six', 'five', 'and', 'alabama', 'was', 'officially', 'readmitted', 'to', 'the', 'union', 'on', 'july', 'one', 'four', 'one', 'eight', 'six', 'eight', 'the', 'cradle', 'of', 'the', 'confederacy', 'during', 'the', 'civil', 'war', 'alabama', 'was', 'at', 'stage', 'center', 'in', 'the', 'civil', 'rights', 'movement', 'of', 'the', 'one', 'nine', 'five', 'zero', 's', 'and', 'one', 'nine', 'six', 'zero', 's', 'law', 'and', 'government', 'main', 'article', 'law', 'and', 'government', 'of', 'alabama', 'local', 'solid', 'south', 'a', 'one', 'party', 'system', 'in', 'which', 'the', 'democratic', 'party', 'became', 'essentially', 'the', 'only', 'political', 'party', 'in', 'every', 'southern', 'state', 'for', 'nearly', 'one', 'zero', 'zero', 'years', 'local', 'and', 'state', 'elections', 'in', 'alabama', 'were', 'decided', 'in', 'the', 'democratic', 'party', 'primary', 'with', 'generally', 'no', 'republican', 'challenger', 'running', 'from', 'one', 'eight', 'seven', 'six', 'through', 'one', 'nine', 'five', 'six', 'alabama', 'supported', 'only', 'democratic', 'presidential', 'candidates', 'by', 'margins', 'as', 'high', 'as', 'seven', 'three', 'percentage', 'points', 'in', 'one', 'nine', 'six', 'zero', 'alabama', 'gave', 'most', 'of', 'its', 'electoral', 'votes', 'to', 'harry', 'f', 'byrd', 'as', 'a', 'protest', 'in', 'one', 'nine', 'six', 'four', 'the', 'national', 'republican', 'party', 'began', 'to', 'win', 'more', 'votes', 'in', 'the', 'south', 'by', 'following', 'a', 'southern', 'strategy', 'which', 'emphasized', 'states', 'rights', 'and', 'the', 'increasing', 'liberalism', 'of', 'the', 'national', 'democratic', 'party', 'the', 'first', 'such', 'candidate', 'was', 'conservative', 'barry', 'goldwater', 'who', 'became', 'the', 'first', 'republican', 'candidate', 'supported', 'by', 'alabama', 'in', 'one', 'nine', 'six', 'eight', 'alabama', 'supported', 'native', 'son', 'and', 'american', 'independent', 'party', 'candidate', 'george', 'wallace', 'the', 'last', 'democratic', 'candidate', 'to', 'win', 'alabama', 's', 'votes', 'in', 'a', 'presidential', 'election', 'was', 'southerner', 'jimmy', 'carter', 'in', 'one', 'nine', 'seven', 'six', 'today', 'the', 'republican', 'party', 'has', 'become', 'increasingly', 'dominant', 'in', 'conservative', 'alabama', 'politics', 'however', 'in', 'local', 'politics', 'democrats', 'still', 'control', 'many', 'offices', 'including', 'majorities', 'in', 'both', 'houses', 'of', 'the', 'legislature', 'and', 'registered', 'democrats', 'outnumber', 'republicans', 'in', 'the', 'state', 'in', 'two', 'zero', 'zero', 'four', 'george', 'w', 'bush', 'won', 'alabama', 's', 'nine', 'electoral', 'votes', 'by', 'a', 'margin', 'of', 'two', 'five', 'percentage', 'points', 'with', 'six', 'two', 'five', 'of', 'the', 'vote', 'the', 'only', 'one', 'one', 'counties', 'voting', 'democratic', 'were', 'black', 'belt', 'counties', 'where', 'african', 'americans', 'are', 'in', 'the', 'majority', 'alabama', 'is', 'located', 'in', 'the', 'bible', 'belt', 'and', 'its', 'educational', 'policies', 'reflect', 'this', 'according', 'to', 'the', 'alan', 'guttmacher', 'institute', 'alabama', 'requires', 'sex', 'education', 'classes', 'to', 'emphasize', 'that', 'homosexuality', 'is', 'not', 'an', 'acceptable', 'lifestyle', 'to', 'the', 'general', 'public', 'and', 'that', 'homosexual', 'conduct', 'is', 'a', 'criminal', 'offense', 'under', 'the', 'laws', 'of', 'the', 'state', 'while', 'the', 'mandate', 'is', 'not', 'typically', 'enforced', 'in', 'alabama', 'classrooms', 'it', 'is', 'unclear', 'whether', 'or', 'not', 'the', 'official', 'requirements', 'have', 'changed', 'since', 'the', 'supreme', 'court', 's', 'ruling', 'in', 'lawrence', 'v', 'texas', 'according', 'to', 'the', 'united', 'states', 'census', 'bureau', 'in', 'two', 'zero', 'zero', 'zero', 'alabama', 'was', 'home', 'to', 'four', 'five', 'six', 'one', 'same', 'sex', 'male', 'couples', 'and', 'four', 'one', 'six', 'seven', 'same', 'sex', 'female', 'couples', 'u', 's', 'presidential', 'election', 'two', 'zero', 'zero', 'four', 'in', 'alabama', 'geography', 'main', 'article', 'geography', 'of', 'alabama', 'alabama', 'is', 'the', 'three', 'zero', 'th', 'largest', 'state', 'in', 'the', 'united', 'states', 'with', 'one', 'three', 'five', 'seven', 'seven', 'five', 'km', 'two', 'five', 'two', 'four', 'two', 'three', 'mi', 'two', 'of', 'total', 'area', 'three', 'one', 'nine', 'of', 'that', 'is', 'water', 'making', 'alabama', 'two', 'three', 'rd', 'in', 'the', 'amount', 'of', 'surface', 'water', 'also', 'giving', 'it', 'the', 'second', 'largest', 'inland', 'waterway', 'system', 'in', 'the', 'united', 'states', 'about', 'three', 'fifths', 'of', 'the', 'land', 'area', 'is', 'a', 'gentle', 'plain', 'with', 'a', 'general', 'incline', 'towards', 'the', 'mississippi', 'river', 'and', 'the', 'gulf', 'of', 'mexico', 'the', 'north', 'alabama', 'region', 'is', 'mostly', 'mountainous', 'with', 'the', 'tennessee', 'river', 'cutting', 'a', 'large', 'valley', 'creating', 'numerous', 'creeks', 'streams', 'rivers', 'mountains', 'and', 'lakes', 'the', 'lowest', 'point', 'east', 'of', 'the', 'mississippi', 'river', 'lies', 'in', 'dekalb', 'county', 'along', 'a', 'creek', 'cutting', 'tower', 'ridges', 'and', 'creating', 'buck', 's', 'pocket', 'state', 'park', 'another', 'natural', 'wonder', 'is', 'land', 'bridge', 'the', 'longest', 'natural', 'bridge', 'span', 'east', 'of', 'the', 'mississippi', 'river', 'alabama', 'generally', 'ranges', 'in', 'elevation', 'from', 'sea', 'level', 'at', 'mobile', 'bay', 'to', 'a', 'little', 'more', 'than', 'one', 'eight', 'zero', 'zero', 'feet', 'or', 'five', 'five', 'zero', 'meters', 'in', 'the', 'appalachian', 'mountains', 'in', 'the', 'northeast', 'the', 'highest', 'point', 'is', 'mount', 'cheaha', 'economy', 'greetings', 'from', 'alabama', 'according', 'to', 'the', 'bureau', 'of', 'economic', 'analysis', 'the', 'two', 'zero', 'zero', 'three', 'total', 'gross', 'state', 'product', 'was', 'one', 'three', 'two', 'billion', 'the', 'per', 'capita', 'income', 'for', 'the', 'state', 'was', 'two', 'six', 'five', 'zero', 'five', 'in', 'two', 'zero', 'zero', 'three', 'alabama', 's', 'agricultural', 'outputs', 'include', 'poultry', 'and', 'eggs', 'cattle', 'plant', 'nursery', 'items', 'peanuts', 'cotton', 'grains', 'such', 'as', 'corn', 'and', 'sorgum', 'vegetables', 'milk', 'soybeans', 'and', 'peaches', 'even', 'though', 'neighboring', 'georgia', 'is', 'called', 'the', 'peach', 'state', 'alabama', 'produces', 'twice', 'as', 'many', 'peaches', 'annually', 'its', 'industrial', 'outputs', 'include', 'iron', 'and', 'steel', 'products', 'including', 'cast', 'iron', 'and', 'steel', 'pipe', 'paper', 'lumber', 'and', 'wood', 'products', 'mining', 'mostly', 'coal', 'and', 'plastic', 'products', 'cars', 'and', 'trucks', 'and', 'apparel', 'also', 'alabama', 'produces', 'aerospace', 'and', 'electronic', 'products', 'mostly', 'in', 'the', 'huntsville', 'area', 'home', 'of', 'the', 'nasa', 'george', 'c', 'marshall', 'space', 'flight', 'center', 'and', 'the', 'us', 'army', 'missile', 'command', 'headquartered', 'at', 'redstone', 'arsenal', 'also', 'the', 'city', 'of', 'mobile', 'is', 'a', 'busy', 'seaport', 'on', 'the', 'gulf', 'of', 'mexico', 'and', 'with', 'inland', 'waterway', 'access', 'to', 'the', 'midwest', 'via', 'the', 'tennessee', 'tombigbee', 'waterway', 'demographics', 'alabama', 'population', 'density', 'map', 'race', 'and', 'ancestry', 'the', 'racial', 'makeup', 'of', 'the', 'state', 'and', 'comparison', 'to', 'the', 'prior', 'census', 'the', 'largest', 'reported', 'ancestry', 'groups', 'in', 'alabama', 'american', 'one', 'seven', 'zero', 'english', 'seven', 'eight', 'irish', 'seven', 'seven', 'german', 'five', 'seven', 'and', 'scotch', 'irish', 'two', 'zero', 'american', 'includes', 'those', 'reported', 'as', 'native', 'american', 'or', 'african', 'american', 'religion', 'the', 'major', 'religions', 'of', 'alabama', 'christian', 'nine', 'two', 'protestant', 'seven', 'nine', 'baptist', 'four', 'nine', 'methodist', 'one', 'zero', 'presbyterian', 'three', 'episcopalian', 'two', 'church', 'of', 'god', 'two', 'church', 'of', 'christ', 'two', 'pentecostal', 'two', 'lutheran', 'two', 'other', 'protestant', 'seven', 'catholic', 'one', 'three', 'other', 'religions', 'one', 'non', 'religious', 'seven', 'colleges', 'and', 'universities', 'incomplete', 'culture', 'and', 'interests', 'famous', 'alabamians', 'alabama', 'jubilee', 'hot', 'air', 'balloon', 'classic', 'music', 'of', 'alabama', 'alabama', 'public', 'television', 'state', 'wide', 'public', 'tv', 'network', 'list', 'of', 'television', 'stations', 'in', 'alabama', 'alabama', 'shakespeare', 'festival', 'alabama', 'sports', 'festival', 'spirit', 'of', 'america', 'festival', 'u', 's', 'space', 'the', 'phrase', 'the', 'heart', 'of', 'dixie', 'is', 'required', 'by', 'state', 'law', 'to', 'be', 'included', 'on', 'standard', 'state', 'vehicle', 'license', 'plates', 'but', 'has', 'recently', 'been', 'reduced', 'to', 'a', 'very', 'small', 'size', 'and', 'eclipsed', 'by', 'the', 'phrase', 'stars', 'fell', 'on', 'alabama', 'alabama', 'states', 'of', 'the', 'united', 'states', 'one', 'eight', 'one', 'nine', 'establishments', 'for', 'other', 'uses', 'see', 'achilles', 'disambiguation', 'the', 'wrath', 'of', 'achilles', 'by', 'l', 'on', 'benouvillein', 'greek', 'mythology', 'transliterated', 'to', 'akhilleus', 'or', 'achilleus', 'in', 'roman', 'letters', 'latinized', 'from', 'this', 'ancient', 'greek', 'to', 'achilles', 'appearing', 'in', 'etruscan', 'as', 'achle', 'was', 'a', 'hero', 'ancient', 'greek', 'heros', 'defender', 'of', 'the', 'trojan', 'war', 'the', 'greatest', 'and', 'the', 'most', 'central', 'character', 'of', 'homer', 's', 'iliad', 'name', 'the', 'very', 'first', 'two', 'lines', 'of', 'the', 'iliad', 'read', 'transliterated', 'm', 'nin', 'aeide', 'thea', 'p', 'l', 'iade', 'akhil', 'os', 'oulomen', 'n', 'h', 'muri', 'akhaiois', 'alge', 'eth', 'ken', 'translated', 'sing', 'muse', 'the', 'wrath', 'of', 'achilles', 'the', 'son', 'of', 'peleus', 'the', 'destructive', 'wrath', 'that', 'brought', 'countless', 'griefs', 'upon', 'the', 'achaeans', 'statue', 'of', 'achillesin', 'these', 'lines', 'we', 'see', 'the', 'name', 'akhilleus', 'peleides', 'which', 'is', 'a', 'praenomen', 'and', 'a', 'patronymic', 'the', 'latter', 'being', 'formed', 'from', 'peleus', 'with', 'the', 'suffix', 'ides', 'producing', 'achilles', 'the', 'son', 'of', 'peleus', 'the', 'system', 'is', 'similar', 'to', 'the', 'names', 'used', 'by', 'scandinavians', 'before', 'modern', 'times', 'such', 'as', 'leif', 'erikson', 'achilles', 'name', 'can', 'be', 'analyzed', 'as', 'a', 'combination', 'of', 'akhos', 'grief', 'and', 'laos', 'a', 'people', 'tribe', 'nation', 'etc', 'in', 'other', 'words', 'achilles', 'is', 'an', 'embodiment', 'of', 'the', 'grief', 'of', 'the', 'people', 'grief', 'being', 'a', 'theme', 'raised', 'numerous', 'times', 'in', 'the', 'iliad', 'frequently', 'by', 'achilles', 'achilles', 'role', 'as', 'the', 'hero', 'of', 'grief', 'forms', 'an', 'ironic', 'juxtaposition', 'with', 'the', 'conventional', 'view', 'of', 'achilles', 'as', 'the', 'hero', 'of', 'kleos', 'glory', 'usually', 'glory', 'in', 'war', 'laos', 'has', 'been', 'construed', 'by', 'gregory', 'nagy', 'following', 'leonard', 'palmer', 'to', 'mean', 'a', 'corps', 'of', 'soldiers', 'with', 'this', 'derivation', 'the', 'name', 'would', 'have', 'a', 'double', 'meaning', 'in', 'the', 'poem', 'when', 'the', 'hero', 'is', 'functioning', 'rightly', 'his', 'men', 'bring', 'grief', 'to', 'the', 'enemy', 'but', 'when', 'wrongly', 'his', 'men', 'get', 'the', 'grief', 'the', 'poem', 'is', 'in', 'part', 'about', 'the', 'misdirection', 'of', 'anger', 'on', 'the', 'part', 'of', 'leadership', 'birth', 'achilles', 'was', 'the', 'son', 'of', 'the', 'mortal', 'peleus', 'king', 'of', 'the', 'myrmidons', 'in', 'phthia', 'southeast', 'thessaly', 'and', 'the', 'sea', 'nymph', 'thetis', 'zeus', 'and', 'poseidon', 'had', 'been', 'rivals', 'for', 'the', 'hand', 'of', 'thetis', 'until', 'prometheus', 'the', 'fire', 'bringer', 'prophesized', 'that', 'thetis', 'would', 'bear', 'a', 'son', 'greater', 'than', 'his', 'father', 'for', 'this', 'reason', 'the', 'two', 'gods', 'withdrew', 'their', 'pursuit', 'and', 'had', 'her', 'wed', 'to', 'peleus', 'when', 'achilles', 'was', 'born', 'according', 'to', 'the', 'most', 'common', 'version', 'of', 'the', 'myth', 'thetis', 'tried', 'to', 'make', 'him', 'immortal', 'by', 'dipping', 'him', 'in', 'the', 'river', 'styx', 'but', 'she', 'forgot', 'to', 'wet', 'the', 'heel', 'she', 'held', 'him', 'by', 'leaving', 'him', 'vulnerable', 'at', 'that', 'spot', 'see', 'achilles', 'tendon', 'in', 'an', 'earlier', 'and', 'less', 'popular', 'version', 'of', 'the', 'story', 'thetis', 'anointed', 'the', 'boy', 'in', 'ambrosia', 'and', 'put', 'him', 'on', 'top', 'of', 'a', 'fire', 'to', 'burn', 'away', 'the', 'mortal', 'parts', 'of', 'his', 'body', 'she', 'was', 'interrupted', 'by', 'peleus', 'and', 'abandoned', 'both', 'father', 'and', 'son', 'in', 'a', 'rage', 'homer', 'does', 'not', 'make', 'reference', 'to', 'this', 'invulnerability', 'in', 'the', 'iliad', 'to', 'the', 'contrary', 'he', 'mentions', 'achilles', 'being', 'wounded', 'although', 'not', 'seriously', 'peleus', 'gave', 'him', 'together', 'with', 'his', 'young', 'friend', 'or', 'lover', 'patroclus', 'to', 'chiron', 'the', 'centaur', 'on', 'mt', 'pelion', 'to', 'be', 'raised', 'achilles', 'in', 'the', 'trojan', 'war', 'telephus', 'when', 'the', 'greeks', 'left', 'for', 'the', 'trojan', 'war', 'they', 'accidentally', 'stopped', 'in', 'mysia', 'ruled', 'by', 'king', 'telephus', 'in', 'the', 'resulting', 'battle', 'achilles', 'gave', 'telephus', 'a', 'wound', 'that', 'would', 'not', 'heal', 'telephus', 'consulted', 'an', 'oracle', 'who', 'stated', 'that', 'he', 'that', 'wounded', 'shall', 'heal', 'according', 'to', 'other', 'reports', 'in', 'euripides', 'lost', 'play', 'about', 'telephus', 'he', 'went', 'to', 'aulis', 'pretending', 'to', 'be', 'a', 'beggar', 'and', 'asked', 'achilles', 'to', 'heal', 'his', 'wound', 'achilles', 'refused', 'claiming', 'to', 'have', 'no', 'medical', 'knowledge', 'alternatively', 'telephus', 'held', 'orestes', 'for', 'ransom', 'the', 'ransom', 'being', 'achilles', 'aid', 'in', 'healing', 'the', 'wound', 'odysseus', 'reasoned', 'that', 'the', 'spear', 'had', 'inflicted', 'the', 'wound', 'therefore', 'the', 'spear', 'must', 'be', 'able', 'to', 'heal', 'it', 'pieces', 'of', 'the', 'spear', 'were', 'scraped', 'off', 'onto', 'the', 'wound', 'and', 'telephus', 'was', 'healed', 'this', 'is', 'an', 'example', 'of', 'sympathetic', 'magic', 'during', 'the', 'trojan', 'war', 'the', 'rage', 'of', 'achilles', 'by', 'giovanni', 'battista', 'tiepolo', 'in', 'homer', 's', 'iliad', 'achilles', 'is', 'the', 'only', 'mortal', 'to', 'experience', 'consuming', 'rage', 'menon', 'his', 'anger', 'is', 'at', 'some', 'times', 'wavering', 'at', 'other', 'times', 'absolute', 'the', 'humanization', 'of', 'achilles', 'by', 'the', 'events', 'of', 'the', 'war', 'is', 'an', 'important', 'theme', 'of', 'the', 'iliad', 'achilles', 'charioteer', 's', 'name', 'was', 'automedon', 'troilus', 'according', 'to', 'dares', 'phrygius', 'account', 'of', 'the', 'destruction', 'of', 'troy', 'while', 'troilus', 'the', 'youngest', 'son', 'of', 'priam', 'and', 'hecuba', 'whom', 'some', 'say', 'was', 'fathered', 'by', 'apollo', 'was', 'watering', 'his', 'horses', 'at', 'the', 'lion', 'fountain', 'outside', 'the', 'walls', 'of', 'troy', 'achilles', 'saw', 'him', 'and', 'fell', 'in', 'love', 'with', 'his', 'beauty', 'whose', 'loveliness', 'of', 'form', 'was', 'described', 'by', 'ibycus', 'as', 'being', 'like', 'gold', 'thrice', 'refined', 'the', 'youth', 'rejected', 'his', 'advances', 'and', 'took', 'refuge', 'inside', 'the', 'temple', 'of', 'apollo', 'achilles', 'pursued', 'him', 'into', 'the', 'sanctuary', 'and', 'decapitated', 'him', 'on', 'the', 'god', 's', 'own', 'altar', 'tzetzes', 'scholiast', 'on', 'lycophron', 'at', 'the', 'time', 'troilus', 'was', 'said', 'to', 'be', 'a', 'year', 'short', 'of', 'his', 'twentieth', 'birthday', 'and', 'the', 'legend', 'goes', 'that', 'if', 'troilus', 'had', 'lived', 'to', 'be', 'twenty', 'troy', 'would', 'have', 'been', 'invincible', 'first', 'vatican', 'mythographer', 'agamemnon', 'and', 'the', 'death', 'of', 'patroclus', 'patroclus', 'and', 'achilles', 'achilles', 'bandages', 'the', 'arm', 'of', 'his', 'friend', 'patroclus', 'the', 'latter', 'turns', 'his', 'head', 'aside', 'to', 'avoid', 'the', 'sight', 'of', 'blood', 'and', 'of', 'achilles', 'noticing', 'his', 'pain', 'grimaces', 'the', 'scene', 'has', 'been', 'interpreted', 'as', 'an', 'act', 'of', 'welfare', 'and', 'comradeship', 'or', 'as', 'a', 'scene', 'with', 'sexual', 'overtones', 'ancient', 'greek', 'culture', 'often', 'held', 'the', 'two', 'to', 'be', 'lovers', 'achilles', 'took', 'two', 'three', 'towns', 'outside', 'troy', 'including', 'lyrnessos', 'where', 'he', 'captured', 'briseis', 'to', 'keep', 'as', 'a', 'concubine', 'meanwhile', 'agamemnon', 'took', 'a', 'woman', 'named', 'chryseis', 'and', 'taunted', 'her', 'father', 'chryses', 'a', 'priest', 'of', 'apollo', 'when', 'he', 'attempted', 'to', 'buy', 'her', 'back', 'apollo', 'sent', 'a', 'plague', 'through', 'the', 'greek', 'armies', 'and', 'agamemnon', 'was', 'forced', 'to', 'give', 'chryseis', 'back', 'to', 'her', 'father', 'however', 'he', 'took', 'briseis', 'away', 'from', 'achilles', 'as', 'compensation', 'for', 'his', 'loss', 'this', 'action', 'sparked', 'the', 'central', 'plot', 'of', 'the', 'iliad', 'achilles', 'becomes', 'enraged', 'and', 'refuses', 'to', 'fight', 'for', 'the', 'greeks', 'any', 'further', 'the', 'war', 'goes', 'badly', 'through', 'the', 'influence', 'of', 'zeus', 'and', 'the', 'greeks', 'offer', 'handsome', 'reparations', 'to', 'their', 'greatest', 'warrior', 'after', 'the', 'greeks', 'are', 'pushed', 'back', 'to', 'the', 'ships', 'which', 'are', 'just', 'starting', 'to', 'be', 'set', 'on', 'fire', 'by', 'the', 'trojan', 'hero', 'hector', 'achilles', 'is', 'visited', 'by', 'odysseus', 'ajax', 'and', 'phoenix', 'who', 'attempt', 'to', 'persuade', 'him', 'to', 'return', 'to', 'battle', 'achilles', 'still', 'refuses', 'to', 'fight', 'but', 'agrees', 'to', 'allow', 'patroclus', 'to', 'fight', 'in', 'his', 'place', 'wearing', 'his', 'armor', 'the', 'next', 'day', 'patroclus', 'is', 'killed', 'and', 'stripped', 'of', 'the', 'armor', 'by', 'hector', 'who', 'mistakes', 'him', 'for', 'achilles', 'achilles', 'is', 'overwhelmed', 'with', 'grief', 'for', 'his', 'beloved', 'friend', 'and', 'the', 'rage', 'he', 'once', 'harbored', 'toward', 'agamemnon', 'begins', 'shifting', 'to', 'hector', 'thetis', 'his', 'mother', 'rises', 'from', 'the', 'sea', 'floor', 'and', 'sympathizes', 'with', 'his', 'grief', 'she', 'obtains', 'magnificent', 'new', 'armor', 'for', 'him', 'from', 'hephaestus', 'the', 'goddess', 'athena', 'provides', 'him'], [1])\n"
     ]
    }
   ],
   "source": [
    "# Get tagged documents for training data\n",
    "training_data = list(tagged_document(text8_data))\n",
    "\n",
    "# Display a sample tagged document\n",
    "print(training_data[1])"
   ]
  },
  {
   "cell_type": "markdown",
   "metadata": {
    "id": "GPUxbdDuopqL"
   },
   "source": [
    "## 2. Initialise and train Doc2Vec model"
   ]
  },
  {
   "cell_type": "markdown",
   "metadata": {},
   "source": [
    "Having loaded the text8 corpus and generated Tagged Documents for each document, the next step is to initialise and train the Doc2Vec model."
   ]
  },
  {
   "cell_type": "markdown",
   "metadata": {},
   "source": [
    "For the purpose of this project, the following parameters are selected for the Doc2Vec model:\n",
    "\n",
    "1. **vector_size = 50** (the model will generate a 50-dimensional vector for each document)\n",
    "2. **min_count = 2** (words that occur less than 2 times in the text corpus will be ignored)\n",
    "3. **epochs = 40** (the model will train iteratively for 40 epochs)\n",
    "\n",
    "First, the vopcabulary for the model is built based on the text8 corpus. This includes all the words that occur more the twice in the corpus. Next, the model is trained using the training data (corpus). Total time elapsed for this process (in seconds) is shown."
   ]
  },
  {
   "cell_type": "code",
   "execution_count": 5,
   "metadata": {
    "id": "Vvxi27sKonII",
    "scrolled": true
   },
   "outputs": [
    {
     "name": "stdout",
     "output_type": "stream",
     "text": [
      "Time elapsed: 569.3098156452179 seconds\n"
     ]
    }
   ],
   "source": [
    "# Get start time\n",
    "start = time.time()\n",
    "\n",
    "# Initialise Doc2Vec model\n",
    "model = Doc2Vec(vector_size=50, min_count=2, epochs=40)\n",
    "\n",
    "# Build vocabulary from given text corpus\n",
    "model.build_vocab(training_data)\n",
    "\n",
    "# Train model\n",
    "model.train(training_data, total_examples=model.corpus_count, epochs=model.epochs)\n",
    "\n",
    "# Get end time\n",
    "end = time.time()\n",
    "\n",
    "# Display time elapsed\n",
    "print('Time elapsed: {} seconds'.format(end-start))"
   ]
  },
  {
   "cell_type": "markdown",
   "metadata": {},
   "source": [
    "The Doc2Vec model takes nearly 5 minutes to train."
   ]
  },
  {
   "cell_type": "markdown",
   "metadata": {},
   "source": [
    "Once the Doc2Vec model is trained, it can be used to infer/generate the vector representations for any peice of text, and thereby determine the similarity between pairs of texts using cosine similarity measure. Some examples are shown below."
   ]
  },
  {
   "cell_type": "code",
   "execution_count": 6,
   "metadata": {
    "scrolled": true
   },
   "outputs": [
    {
     "name": "stdout",
     "output_type": "stream",
     "text": [
      "0.9429934327925633\n"
     ]
    }
   ],
   "source": [
    "# Sample texts\n",
    "sample_text1 = 'Nothing is bad'\n",
    "sample_text2 = 'Everything is good'\n",
    "\n",
    "# Infer vectors for sample texts using trained Doc2Vec model\n",
    "sample_text1_vector = model.infer_vector(sample_text1.split())\n",
    "sample_text2_vector = model.infer_vector(sample_text2.split())\n",
    "\n",
    "# Determine similarity using cosine similarity\n",
    "sim = 1 - scipy.spatial.distance.cosine(sample_text1_vector, sample_text2_vector)\n",
    "\n",
    "# Display similarity score\n",
    "print(sim)"
   ]
  },
  {
   "cell_type": "markdown",
   "metadata": {},
   "source": [
    "Using the described method, the similarity between the 2 sample texts is determined to be 0.9391 (~94%)."
   ]
  },
  {
   "cell_type": "markdown",
   "metadata": {
    "id": "hee8Ku5dyRlj"
   },
   "source": [
    "## 3. Test with sample documents"
   ]
  },
  {
   "cell_type": "markdown",
   "metadata": {},
   "source": [
    "After training the Doc2Vec model, it can be tested with a pair of sample documents to determine semantic similarity between them."
   ]
  },
  {
   "cell_type": "markdown",
   "metadata": {},
   "source": [
    "The function defined below takes a text document as input and tokenizes it (split into individual words) after removing unwanted punctuations. It return a list of tokens for the input document."
   ]
  },
  {
   "cell_type": "code",
   "execution_count": 7,
   "metadata": {
    "id": "lgWSco5FuQ1j"
   },
   "outputs": [],
   "source": [
    "# Function to tokenize text documents\n",
    "def tokenize(document):\n",
    "    # Remove all punctuation marks\n",
    "    document = document.translate(str.maketrans('', '', string.punctuation))\n",
    "    \n",
    "    # Split document into individual words\n",
    "    tokens = document.lower().split()\n",
    "    \n",
    "    # Return list of tokens\n",
    "    return tokens"
   ]
  },
  {
   "cell_type": "markdown",
   "metadata": {},
   "source": [
    "Sample document 1 (source: https://www.datarobot.com/wiki/data-science/)\n",
    "\n",
    "The vector representation for the sample document is inferred using the trained Doc2Vec model and displayed here."
   ]
  },
  {
   "cell_type": "code",
   "execution_count": 8,
   "metadata": {
    "id": "RnksU4J3r9cP"
   },
   "outputs": [
    {
     "name": "stdout",
     "output_type": "stream",
     "text": [
      "[ 0.13286893 -1.2322876  -1.9172021   0.8146317   0.92000616  0.07555575\n",
      "  0.33878285 -0.8097486  -0.3451892  -0.6000168   0.430709    1.2293409\n",
      "  0.2270408  -0.21894792  0.15632525 -1.7304384   0.05622553 -0.2064903\n",
      " -1.1359855  -1.6128716  -1.426148   -0.22439794 -0.85566664 -0.36731967\n",
      " -0.09791453 -1.7759222  -1.0530732  -1.1950265  -0.40541992 -0.75427556\n",
      "  1.5395336  -0.45556417 -0.79839605 -0.5609269  -1.0341463  -0.03317484\n",
      "  1.0452812   0.37783346 -0.43193278  1.2293113   0.6621519  -0.71475995\n",
      "  0.82637686 -1.4677111   1.0038252  -0.15299498 -0.13292463 -0.54987985\n",
      "  1.1619424  -0.8855966 ]\n"
     ]
    }
   ],
   "source": [
    "sample_doc1 = '''Data science is the field of study that combines domain expertise, programming skills, and knowledge of \n",
    "mathematics and statistics to extract meaningful insights from data. Data science practitioners apply machine learning \n",
    "algorithms to numbers, text, images, video, audio, and more to produce artificial intelligence (AI) systems to perform \n",
    "tasks that ordinarily require human intelligence. In turn, these systems generate insights which analysts and business \n",
    "users can translate into tangible business value.'''\n",
    "\n",
    "# Tokenize sample document\n",
    "sample_doc1_tokens = tokenize(sample_doc1)\n",
    "\n",
    "# Infer vector using trained model\n",
    "doc1_vector = model.infer_vector(sample_doc1_tokens)\n",
    "\n",
    "# Display inferred vector\n",
    "print(doc1_vector)"
   ]
  },
  {
   "cell_type": "markdown",
   "metadata": {},
   "source": [
    "Sample document 2 (source: https://en.wikipedia.org/wiki/Data_science)\n",
    "\n",
    "The vector representation for the sample document is inferred using the trained Doc2Vec model and displayed here."
   ]
  },
  {
   "cell_type": "code",
   "execution_count": 9,
   "metadata": {
    "id": "ADBrQfENw2F6",
    "scrolled": true
   },
   "outputs": [
    {
     "name": "stdout",
     "output_type": "stream",
     "text": [
      "[-0.15553468 -1.266999   -1.3765799   1.0690178   0.7393133   0.6061039\n",
      " -0.00314287 -0.25976923  0.1151078  -0.38529044  0.0763981   0.80284387\n",
      "  0.8806282  -0.43346977  0.18722571 -1.5667044   0.06902097  0.58789337\n",
      " -0.6691542  -1.7919095  -1.5733536   0.6398737  -0.9336003  -0.09777802\n",
      " -1.3884649  -1.0396327  -0.66473716 -1.219378    0.35274348 -0.46030825\n",
      "  1.2755452  -0.1862244   0.03700712  0.63001686 -0.7626884   0.10283075\n",
      "  0.45660853 -0.09105806 -0.12229317  0.98861     0.33697143 -1.1812943\n",
      " -0.4700193  -1.387528    0.5422426   0.5360279  -0.02451541 -0.6216781\n",
      "  1.092974   -0.537946  ]\n"
     ]
    }
   ],
   "source": [
    "sample_doc2 = '''Data science is an interdisciplinary field that uses scientific methods, processes, algorithms and \n",
    "systems to extract knowledge and insights from noisy, structured and unstructured data, and apply knowledge and \n",
    "actionable insights from data across a broad range of application domains. Data science is related to data mining, \n",
    "machine learning and big data.'''\n",
    "\n",
    "# Tokenize sample document\n",
    "sample_doc2_tokens = tokenize(sample_doc2)\n",
    "\n",
    "# Infer vector using trained model\n",
    "doc2_vector = model.infer_vector(sample_doc2_tokens)\n",
    "\n",
    "# Display inferred vector\n",
    "print(doc2_vector)"
   ]
  },
  {
   "cell_type": "markdown",
   "metadata": {},
   "source": [
    "Cosine of the angle between these 2 vectors can be used to determine the measure of similarity between the 2 documents.\n",
    "\n",
    "The cosine of the angle between 2 vectors gives a measure of how close the 2 vectors are to each other in the vector space. The closer 2 vectors are to each other, smaller will be the value of cosine of the angle between them. Subtracting this value from 1 gives a measure of the similarity (closeness) of the pair of vectors."
   ]
  },
  {
   "cell_type": "code",
   "execution_count": 10,
   "metadata": {
    "id": "sYQKuOhUxIo4"
   },
   "outputs": [
    {
     "name": "stdout",
     "output_type": "stream",
     "text": [
      "0.8301742423909662\n"
     ]
    }
   ],
   "source": [
    "# Determine similarity score using cosine similarity\n",
    "sim_score = 1 - scipy.spatial.distance.cosine(doc1_vector, doc2_vector)\n",
    "\n",
    "# Display score\n",
    "print(sim_score)"
   ]
  },
  {
   "cell_type": "markdown",
   "metadata": {},
   "source": [
    "The similarity score for the given sample documents, as calculated using cosine similarity, is 0.8485. It can be said that the 2 documents are ~85% similar."
   ]
  },
  {
   "cell_type": "markdown",
   "metadata": {
    "id": "PPEnaeBzK31i"
   },
   "source": [
    "# Save trained model"
   ]
  },
  {
   "cell_type": "markdown",
   "metadata": {},
   "source": [
    "This trained Doc2Vec model can be saved for later use."
   ]
  },
  {
   "cell_type": "code",
   "execution_count": 11,
   "metadata": {
    "id": "KnUeo1ssK8Ls"
   },
   "outputs": [],
   "source": [
    "# Save model to disk\n",
    "model.save('./WebAES_Doc2Vec_Model.model')"
   ]
  }
 ],
 "metadata": {
  "colab": {
   "authorship_tag": "ABX9TyOLgLM58vJ9hlF8+1A7ovLW",
   "collapsed_sections": [],
   "name": "WebAES-Model.ipynb",
   "provenance": []
  },
  "kernelspec": {
   "display_name": "Python 3",
   "language": "python",
   "name": "python3"
  },
  "language_info": {
   "codemirror_mode": {
    "name": "ipython",
    "version": 3
   },
   "file_extension": ".py",
   "mimetype": "text/x-python",
   "name": "python",
   "nbconvert_exporter": "python",
   "pygments_lexer": "ipython3",
   "version": "3.9.0"
  }
 },
 "nbformat": 4,
 "nbformat_minor": 1
}
